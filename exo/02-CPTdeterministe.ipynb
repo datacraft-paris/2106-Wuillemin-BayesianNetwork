{
 "cells": [
  {
   "cell_type": "code",
   "execution_count": 1,
   "metadata": {
    "collapsed": true,
    "jupyter": {
     "outputs_hidden": true
    }
   },
   "outputs": [],
   "source": [
    "import pyAgrum as gum\n",
    "import pyAgrum.lib.notebook as gnb\n",
    "from pyAgrum.lib.pretty_print import pretty_cpt\n",
    "\n",
    "from IPython.display import display, Math, Latex"
   ]
  },
  {
   "cell_type": "markdown",
   "metadata": {},
   "source": [
    "# Exercice 2\n",
    "\n",
    "On lance deux dés (équilibrés).\n",
    "\n",
    "Déterminer, grâce à un réseau bayésien, la loi de probabilité du maximum des chiffres indiqués par les 2 dés.\n",
    "\n",
    "Note 1 : on peut représenter des dépendances fonctionnelles entre variables par des CPTs ne contenant que des probabilités $0$ ou $1$\n",
    "\n",
    "Note 2 : construire ces CPTs à la main serait fastidieux, même pour deux dés. PyAgrum permet d'utiliser directement des définitions fonctionnelles pour instancier celles-ci (cf cheatsheet)."
   ]
  },
  {
   "cell_type": "code",
   "execution_count": null,
   "metadata": {
    "collapsed": true,
    "jupyter": {
     "outputs_hidden": true
    }
   },
   "outputs": [],
   "source": []
  },
  {
   "cell_type": "markdown",
   "metadata": {},
   "source": [
    "Vérifier la distribution de la loi de probabilité de ce même maximum en supposant que le tirage du dé 1 vaut 3"
   ]
  },
  {
   "cell_type": "code",
   "execution_count": null,
   "metadata": {
    "collapsed": true,
    "jupyter": {
     "outputs_hidden": true
    }
   },
   "outputs": [],
   "source": []
  },
  {
   "source": [
    "Vérifier la distribution de la loi de probabilité de ce même maximum en supposant que le tirage du dé 1 est plus grand que 3\n"
   ],
   "cell_type": "markdown",
   "metadata": {}
  },
  {
   "cell_type": "code",
   "execution_count": null,
   "metadata": {},
   "outputs": [],
   "source": []
  },
  {
   "source": [
    "Vérifier la distribution de la loi de probabilité de ce même maximum en supposant que le tirage du dé 1 est plus grand que 3 et que ce même maximum est pair"
   ],
   "cell_type": "markdown",
   "metadata": {}
  },
  {
   "cell_type": "code",
   "execution_count": null,
   "metadata": {},
   "outputs": [],
   "source": []
  }
 ],
 "metadata": {
  "kernelspec": {
   "name": "python3",
   "display_name": "Python 3.9.2 64-bit ('testpy39': conda)"
  },
  "language_info": {
   "codemirror_mode": {
    "name": "ipython",
    "version": 3
   },
   "file_extension": ".py",
   "mimetype": "text/x-python",
   "name": "python",
   "nbconvert_exporter": "python",
   "pygments_lexer": "ipython3",
   "version": "3.9.2"
  },
  "interpreter": {
   "hash": "a9ee70006b6f81fac2f5f7dd19f1a2324188ea26dbf21d77e95ec96161839214"
  }
 },
 "nbformat": 4,
 "nbformat_minor": 4
}