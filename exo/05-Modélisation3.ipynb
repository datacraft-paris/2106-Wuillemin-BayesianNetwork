{
 "cells": [
  {
   "cell_type": "code",
   "execution_count": null,
   "metadata": {
    "collapsed": true
   },
   "outputs": [],
   "source": [
    "import pyAgrum as gum\n",
    "import pyAgrum.lib.notebook as gnb"
   ]
  },
  {
   "cell_type": "markdown",
   "metadata": {},
   "source": [
    "# Exercice 5 : détection de fraude à la carte de crédit\n",
    "\n",
    ">problème proposé par Roland Donat\n",
    "\n",
    "Chaque année, les banques perdent d'importantes sommes d'argents suite aux pertes ou aux vols de cartes de crédit. Pour détecter l'occurrence de fraudes, l'industrie financière se tourne de plus en plus vers l'intelligence artificielle et l'analyse de données pour trouver des solutions à cette problématique. En effet, les propriétaires de carte de crédit ont tendance à faire leurs achats en suivant des schémas plus ou moins identifiables. Quand ce schéma n'est plus respecté, il y a de fortes chances qu'une fraude se soit produite. Les paragraphes suivants donnent des informations générales sur le comportement des propriétaires de carte :\n",
    "\n",
    "+ Quand un propriétaire de carte de crédit voyage à l'étranger, les transactions frauduleuses sont plus probables car les touristes sont des cibles privilégiées pour les voleurs. Plus précisément, on estime que $1\\%$ des transactions sont frauduleuses quand le propriétaire de la carte de crédit est en voyage, contre seulement $0.2\\%$ de transactions frauduleuses à domicile. En moyenne, $5\\%$ de toutes les transactions se produisent au cours de voyages à l'étranger.\n",
    "+ Si une transaction est frauduleuse, alors la probabilité qu'il s'agisse d'un achat à l'étranger augmente, sauf si le propriétaire de la carte est précisément en voyage à l'étranger. Statistiquement, quand le propriétaire de la carte n'est pas en voyage, $10\\%$ des transactions frauduleuse concernent un achat à l'étranger alors que seulement 1% des transactions normales portent sur un achat à l'étranger. En revanche, quand le propriétaire est en voyage à l'étranger, $90\\%$ des transactions (frauduleuses ou non) sont des achats à l'étranger.\n",
    "+ Les achats réalisés sur internet sont plus souvent frauduleux. Ceci est particulièrement vrai pour les propriétaires de carte n'ayant pas d'ordinateur. En effet :\n",
    "    + Pour ceux qui ne possèdent pas d'ordinateur, seulement $0.1\\%$ de leurs transactions normales sont faites sur internet. Ce chiffre monte à $1.1\\%$ en cas de transactions frauduleuses. \n",
    "    + Pour les possesseurs d'ordinateur, $1\\%$ des transactions normales a lieu sur internet. En revanche, ce pourcentage s'élève à $2\\%$ lors de transactions frauduleuses.\n",
    "    + On estime aujourd'hui que $75\\%$ de la population possède un ordinateur\n",
    "+ Malheureusement, les banques ne savent pas si le propriétaire d'une carte possède un ordinateur. Toutefois, ces dernières peuvent vérifier l'historique des transactions afin de rechercher si des achats liés à du matériel informatique ont été effectués dernièrement. En particulier, on estime que $10\\%$ des propriétaires d'ordinateur ont fait des achats en rapport avec l'informatique dernièrement contre $0.1\\%$ pour ceux ne possédant pas d'ordinateur.\n"
   ]
  },
  {
   "cell_type": "markdown",
   "metadata": {},
   "source": [
    "Construire un BN (graphe et TPC) visant à détecter des transactions frauduleuses. Le BN sera composé des 6 variables booléennes suivantes :\n",
    "\n",
    "    FR : la transaction courante est frauduleuse.\n",
    "    VE : le propriétaire de la carte est actuellement en voyage à l'étranger.\n",
    "    AE : la transaction courante concerne un achat à l'étranger.\n",
    "    AI : la transaction courante concerne un achat sur internet.\n",
    "    PO : le propriétaire de la carte a un ordinateur.\n",
    "    AOD : un achat lié à l'informatique a été effectué dernièrement.\n"
   ]
  },
  {
   "cell_type": "code",
   "execution_count": null,
   "metadata": {},
   "outputs": [],
   "source": []
  },
  {
   "cell_type": "markdown",
   "metadata": {},
   "source": [
    "## Inférences\n",
    "\n",
    "Quelle est la probabilité a priori qu'une transaction soit frauduleuse?"
   ]
  },
  {
   "cell_type": "code",
   "execution_count": null,
   "metadata": {},
   "outputs": [],
   "source": []
  },
  {
   "source": [
    "Quelle est la probabilité a priori qu'une transaction soit frauduleuse sachant que la transaction courante concerne un achat à l'étranger, sur internet et que le propriétaire ne possède pas d'ordinateur ?"
   ],
   "cell_type": "markdown",
   "metadata": {}
  },
  {
   "cell_type": "code",
   "execution_count": null,
   "metadata": {},
   "outputs": [],
   "source": []
  },
  {
   "cell_type": "markdown",
   "metadata": {},
   "source": [
    "## Première optimisation\n",
    "\n",
    "Supposons à présent que vous ayez volé une carte de crédit - attention, c'est mal ! -. Supposons de plus que vous connaissez les réseaux bayésiens et que vous savez que la banque du propriétaire de la carte utilise le système de détection de fraudes reposant sur le RB décrit précédemment. Malgré tout cela, vous souhaitez quand même faire un achat sur internet avec la carte volée, quelle(s) action(s) pouvez vous effectuer afin de réduire le risque que votre transaction soit rejetée? De combien pouvez vous faire baisser la probabilité que la transaction soit considérée comme frauduleuse ?"
   ]
  },
  {
   "cell_type": "code",
   "execution_count": null,
   "metadata": {},
   "outputs": [],
   "source": []
  }
 ],
 "metadata": {
  "kernelspec": {
   "display_name": "Python 3",
   "language": "python",
   "name": "python3"
  },
  "language_info": {
   "codemirror_mode": {
    "name": "ipython",
    "version": 3
   },
   "file_extension": ".py",
   "mimetype": "text/x-python",
   "name": "python",
   "nbconvert_exporter": "python",
   "pygments_lexer": "ipython3",
   "version": "3.6.2"
  }
 },
 "nbformat": 4,
 "nbformat_minor": 1
}