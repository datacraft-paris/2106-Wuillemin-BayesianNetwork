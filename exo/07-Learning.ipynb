{
 "cells": [
  {
   "cell_type": "code",
   "execution_count": 18,
   "metadata": {
    "ExecuteTime": {
     "end_time": "2019-02-25T16:05:56.589447Z",
     "start_time": "2019-02-25T16:05:56.340025Z"
    },
    "execution": {
     "iopub.execute_input": "2021-05-08T13:16:03.786853Z",
     "iopub.status.busy": "2021-05-08T13:16:03.786853Z",
     "iopub.status.idle": "2021-05-08T13:16:04.201568Z",
     "shell.execute_reply": "2021-05-08T13:16:04.199567Z",
     "shell.execute_reply.started": "2021-05-08T13:16:03.786853Z"
    }
   },
   "outputs": [],
   "source": [
    "%matplotlib inline\n",
    "from pylab import *\n",
    "import matplotlib.pyplot as plt\n",
    "\n",
    "import os"
   ]
  },
  {
   "cell_type": "code",
   "execution_count": 19,
   "metadata": {
    "ExecuteTime": {
     "end_time": "2019-02-25T16:05:56.606581Z",
     "start_time": "2019-02-25T16:05:56.593129Z"
    },
    "execution": {
     "iopub.execute_input": "2021-05-08T13:16:04.203655Z",
     "iopub.status.busy": "2021-05-08T13:16:04.203655Z",
     "iopub.status.idle": "2021-05-08T13:16:04.277754Z",
     "shell.execute_reply": "2021-05-08T13:16:04.276751Z",
     "shell.execute_reply.started": "2021-05-08T13:16:04.203655Z"
    }
   },
   "outputs": [],
   "source": [
    "import pyAgrum as gum\n",
    "import pyAgrum.lib.notebook as gnb"
   ]
  },
  {
   "source": [
    "# Exemple de la dyspnée (Lauritzen & Spiegelhalter (88))\n",
    "\n",
    "La **dyspnée** peut être engendrée par une **tuberculose**, un\n",
    "**cancer des poumons**, une **bronchite**, par plusieurs de ces\n",
    "maladies, ou bien par aucune.\n",
    "\n",
    "Un séjour récent en **Asie** augmente les chances de tuberculose,\n",
    "tandis que **fumer** augmente les risques de cancer des poumons.\n",
    "Des **rayons X** permettent de détecter une tuberculose ou un\n",
    "cancer.\n",
    "\n",
    "Un patient éprouve des difficultés à respirer. Dans quelle mesure\n",
    "peut-on dire qu'il est atteint de dyspnée?"
   ],
   "cell_type": "markdown",
   "metadata": {}
  },
  {
   "cell_type": "markdown",
   "metadata": {},
   "source": [
    "# Générer une base de données depuis un RB"
   ]
  },
  {
   "source": [
    "1) Charger le BN correspondant depuis le fichier \"res/asia.bif\" et l'afficher."
   ],
   "cell_type": "markdown",
   "metadata": {}
  },
  {
   "cell_type": "code",
   "execution_count": null,
   "metadata": {},
   "outputs": [],
   "source": []
  },
  {
   "source": [
    "2) Utiliser pyAgrum pour générer une base de données de 500000 exemples (dans le fichier \"out/sample_asia.csv\")"
   ],
   "cell_type": "markdown",
   "metadata": {}
  },
  {
   "cell_type": "code",
   "execution_count": null,
   "metadata": {},
   "outputs": [],
   "source": []
  },
  {
   "source": [
    "3) Vérifier la taille de la base de données"
   ],
   "cell_type": "markdown",
   "metadata": {}
  },
  {
   "cell_type": "code",
   "execution_count": 21,
   "metadata": {
    "ExecuteTime": {
     "end_time": "2019-02-25T16:06:00.909697Z",
     "start_time": "2019-02-25T16:06:00.892669Z"
    },
    "execution": {
     "iopub.execute_input": "2021-05-08T13:16:08.266333Z",
     "iopub.status.busy": "2021-05-08T13:16:08.266333Z",
     "iopub.status.idle": "2021-05-08T13:16:08.313284Z",
     "shell.execute_reply": "2021-05-08T13:16:08.311285Z",
     "shell.execute_reply.started": "2021-05-08T13:16:08.266333Z"
    }
   },
   "outputs": [
    {
     "output_type": "stream",
     "name": "stdout",
     "text": [
      "===\n  Size of the generated database\n===\n500000\n\n===\n  First lines\n===\ntuberculosis,lung_cancer,bronchitis,visit_to_Asia,positive_XraY,smoking,tuberculos_or_cancer,dyspnoea\n1,0,0,1,0,0,0,0\n1,1,1,1,1,1,1,1\n1,1,0,1,1,0,1,0\n1,1,0,1,1,0,1,0\n1,1,1,1,1,1,1,1\n1,1,0,1,1,0,1,0\n1,1,0,1,0,1,1,0\n1,0,0,1,0,0,0,0\n1,1,1,1,1,0,1,1\n\n"
     ]
    }
   ],
   "source": [
    "import pyAgrum.lib._utils.oslike as oslike\n",
    "print(\"===\\n  Size of the generated database\\n===\")\n",
    "oslike.wc_l(\"out/sample_asia.csv\")\n",
    "print(\"\\n===\\n  First lines\\n===\")\n",
    "oslike.head(\"out/sample_asia.csv\")"
   ]
  },
  {
   "cell_type": "markdown",
   "metadata": {},
   "source": [
    "# Apprentissage de paramètres depuis la base de données"
   ]
  },
  {
   "cell_type": "markdown",
   "metadata": {},
   "source": [
    "1) Utiliser pyAgrum pour apprendre les paramètres d'un modèle (appeplé *bn2*) depuis une base de données.\n",
    "\n",
    "Note : BNLearner peut prendre en paramètre le RB de départ afin de réutiliser les noms de variables et leurs labels.\n",
    "\n",
    "Note 2 : Avant d'effectivement apprendre les paramètres, réutiliser le dag de *bn* comme dag initial dans le learner."
   ]
  },
  {
   "cell_type": "code",
   "execution_count": null,
   "metadata": {},
   "outputs": [],
   "source": []
  },
  {
   "source": [
    "2) Comparer les CPTs du BN initial, *bn* et celui dont les paramètres ont été appris *bn2*."
   ],
   "cell_type": "markdown",
   "metadata": {}
  },
  {
   "cell_type": "code",
   "execution_count": 34,
   "metadata": {
    "ExecuteTime": {
     "end_time": "2019-02-25T16:06:04.578859Z",
     "start_time": "2019-02-25T16:06:04.566656Z"
    },
    "execution": {
     "iopub.execute_input": "2021-05-08T13:16:10.620377Z",
     "iopub.status.busy": "2021-05-08T13:16:10.619282Z",
     "iopub.status.idle": "2021-05-08T13:16:10.634173Z",
     "shell.execute_reply": "2021-05-08T13:16:10.633171Z",
     "shell.execute_reply.started": "2021-05-08T13:16:10.620377Z"
    }
   },
   "outputs": [
    {
     "output_type": "execute_result",
     "data": {
      "text/plain": [
       "<IPython.core.display.HTML object>"
      ],
      "text/html": "<table><tr><td style=\"text-align:center;\"><h3>original BN</h3></td><td style=\"text-align:center;\"><h3>Learned BN</h3></td></tr><tr><td><center><table style=\"border:1px solid black;\">\n<tr style='border:1px solid black;color:black;background-color:#808080'><th colspan='2'><center>visit_to_Asia</center></th></tr>\n<tr><th style='border:1px solid black;border-bottom-style: double;color:black;background-color:#BBBBBB'><center>0</center></th><th style='border:1px solid black;border-bottom-style: double;color:black;background-color:#BBBBBB'><center>1</center></th></tr>\n<tr><td style='color:black;background-color:#fd8064;text-align:right;'>0.0100</td><td style='color:black;background-color:#80fd64;text-align:right;'>0.9900</td></tr>\n</table></center></td><td><center><table style=\"border:1px solid black;\">\n<tr style='border:1px solid black;color:black;background-color:#808080'><th colspan='2'><center>visit_to_Asia</center></th></tr>\n<tr><th style='border:1px solid black;border-bottom-style: double;color:black;background-color:#BBBBBB'><center>0</center></th><th style='border:1px solid black;border-bottom-style: double;color:black;background-color:#BBBBBB'><center>1</center></th></tr>\n<tr><td style='color:black;background-color:#fd8064;text-align:right;'>0.0100</td><td style='color:black;background-color:#80fd64;text-align:right;'>0.9900</td></tr>\n</table></center></td></tr><tr><td><center><table style=\"border:1px solid black;\">\n<tr><th colspan='1'></th><th colspan='2' style='border:1px solid black;color:black;background-color:#808080;'><center>tuberculosis</center></th></tr>\n<tr><th style='border:1px solid black;color:black;background-color:#808080'><center>visit_to_Asia</center></th><th style='border:1px solid black;border-bottom-style: double;color:black;background-color:#BBBBBB'><center>0</center></th><th style='border:1px solid black;border-bottom-style: double;color:black;background-color:#BBBBBB'><center>1</center></th></tr>\n<tr><th style='border:1px solid black;color:black;background-color:#BBBBBB'><center>0</center></th><td style='color:black;background-color:#f88564;text-align:right;'>0.0500</td><td style='color:black;background-color:#85f864;text-align:right;'>0.9500</td></tr>\n<tr><th style='border:1px solid black;color:black;background-color:#BBBBBB'><center>1</center></th><td style='color:black;background-color:#fd8064;text-align:right;'>0.0100</td><td style='color:black;background-color:#80fd64;text-align:right;'>0.9900</td></tr>\n</table></center></td><td><center><table style=\"border:1px solid black;\">\n<tr><th colspan='1'></th><th colspan='2' style='border:1px solid black;color:black;background-color:#808080;'><center>tuberculosis</center></th></tr>\n<tr><th style='border:1px solid black;color:black;background-color:#808080'><center>visit_to_Asia</center></th><th style='border:1px solid black;border-bottom-style: double;color:black;background-color:#BBBBBB'><center>0</center></th><th style='border:1px solid black;border-bottom-style: double;color:black;background-color:#BBBBBB'><center>1</center></th></tr>\n<tr><th style='border:1px solid black;color:black;background-color:#BBBBBB'><center>0</center></th><td style='color:black;background-color:#f88564;text-align:right;'>0.0496</td><td style='color:black;background-color:#85f864;text-align:right;'>0.9504</td></tr>\n<tr><th style='border:1px solid black;color:black;background-color:#BBBBBB'><center>1</center></th><td style='color:black;background-color:#fd8064;text-align:right;'>0.0100</td><td style='color:black;background-color:#80fd64;text-align:right;'>0.9900</td></tr>\n</table></center></td></tr></table>"
     },
     "metadata": {},
     "execution_count": 34
    }
   ],
   "source": [
    "from IPython.display import HTML\n",
    "\n",
    "HTML('<table><tr><td style=\"text-align:center;\"><h3>original BN</h3></td>'+\n",
    "     '<td style=\"text-align:center;\"><h3>Learned BN</h3></td></tr>'+\n",
    "     '<tr><td><center>'+\n",
    "     gnb.getPotential(bn.cpt (bn.idFromName('visit_to_Asia')))\n",
    "     +'</center></td><td><center>'+\n",
    "     gnb.getPotential(bn2.cpt(bn2.idFromName('visit_to_Asia')))\n",
    "     +'</center></td></tr><tr><td><center>'+\n",
    "     gnb.getPotential(bn.cpt (bn.idFromName('tuberculosis')))\n",
    "     +'</center></td><td><center>'+\n",
    "     gnb.getPotential(bn2.cpt(bn2.idFromName('tuberculosis')))\n",
    "     +'</center></td></tr></table>')"
   ]
  },
  {
   "cell_type": "markdown",
   "metadata": {},
   "source": [
    "# Apprentissage structurel depuis la base de données"
   ]
  },
  {
   "cell_type": "markdown",
   "metadata": {},
   "source": [
    "## Différents algorithmes d'apprentissage "
   ]
  },
  {
   "cell_type": "markdown",
   "metadata": {},
   "source": [
    "PyAgrum propose plusieurs algorithmes pour apprendre la structure d'un BN :\n",
    "\n",
    "- Local search with tabu-list\n",
    "- Greedy Hill-Climbing\n",
    "- K2 \n",
    "\n",
    "1) En se basant sur l'exemple de code ci-dessous, comparer les différentes approches \n",
    "\n",
    "        learner=gum.BNLearner(\"out/sample_asia.csv\",bn)\n",
    "        learner.use ... un des algorithmes\n",
    "        bn2=learner.learnBN()\n",
    "        print(\"Learned in {0}ms\".format(1000*learner.currentTime()))\n",
    "        gnb.sideBySide(bn2,gnb.getInformation(bn2))\n",
    "        kl=gum.ExactBNdistance(bn,bn2)\n",
    "        kl.compute()"
   ]
  },
  {
   "source": [
    "a) En utilisant Local search with tabu-list"
   ],
   "cell_type": "markdown",
   "metadata": {}
  },
  {
   "cell_type": "code",
   "execution_count": null,
   "metadata": {},
   "outputs": [],
   "source": []
  },
  {
   "cell_type": "markdown",
   "metadata": {},
   "source": [
    "b) L'algorithme de Greedy Hill Climbing"
   ]
  },
  {
   "cell_type": "code",
   "execution_count": null,
   "metadata": {},
   "outputs": [],
   "source": []
  },
  {
   "cell_type": "markdown",
   "metadata": {},
   "source": [
    "c) L'algorithme de K2, qui prend en paramètre un ordre de variables sous la forme d'une liste d'id (commencer avec l'ordre \\[0,1,2,3,4,5,6,7\\])"
   ]
  },
  {
   "cell_type": "code",
   "execution_count": null,
   "metadata": {},
   "outputs": [],
   "source": []
  },
  {
   "cell_type": "markdown",
   "metadata": {},
   "source": [
    "L'algorithme de K2 peut être très efficace si l'ordre choisi est bon !\n",
    "\n",
    "d) Comparer le résultat précédent avec un K2 utilisant l'ordre \\[7,6,5,4,3,2,1,0\\]\n"
   ]
  },
  {
   "cell_type": "code",
   "execution_count": null,
   "metadata": {},
   "outputs": [],
   "source": []
  },
  {
   "cell_type": "markdown",
   "metadata": {},
   "source": [
    "# Suivre la courbe d'apprentissage\n",
    "\n",
    "Il est possible de facilement suivre la courbe d'apprentissage d'un BN comme le montre la cellule ci-dessous."
   ]
  },
  {
   "cell_type": "code",
   "execution_count": 47,
   "metadata": {
    "ExecuteTime": {
     "end_time": "2019-02-25T16:06:25.496652Z",
     "start_time": "2019-02-25T16:06:21.491848Z"
    },
    "execution": {
     "iopub.execute_input": "2021-05-08T13:16:15.266216Z",
     "iopub.status.busy": "2021-05-08T13:16:15.266216Z",
     "iopub.status.idle": "2021-05-08T13:16:18.320166Z",
     "shell.execute_reply": "2021-05-08T13:16:18.319167Z",
     "shell.execute_reply.started": "2021-05-08T13:16:15.266216Z"
    }
   },
   "outputs": [
    {
     "output_type": "display_data",
     "data": {
      "text/plain": "<Figure size 432x288 with 1 Axes>",
      "image/svg+xml": "<?xml version=\"1.0\" encoding=\"utf-8\" standalone=\"no\"?>\r\n<!DOCTYPE svg PUBLIC \"-//W3C//DTD SVG 1.1//EN\"\r\n  \"http://www.w3.org/Graphics/SVG/1.1/DTD/svg11.dtd\">\r\n<svg height=\"277.136625pt\" version=\"1.1\" viewBox=\"0 0 368.925 277.136625\" width=\"368.925pt\" xmlns=\"http://www.w3.org/2000/svg\" xmlns:xlink=\"http://www.w3.org/1999/xlink\">\r\n <metadata>\r\n  <rdf:RDF xmlns:cc=\"http://creativecommons.org/ns#\" xmlns:dc=\"http://purl.org/dc/elements/1.1/\" xmlns:rdf=\"http://www.w3.org/1999/02/22-rdf-syntax-ns#\">\r\n   <cc:Work>\r\n    <dc:type rdf:resource=\"http://purl.org/dc/dcmitype/StillImage\"/>\r\n    <dc:date>2021-06-16T20:35:12.293351</dc:date>\r\n    <dc:format>image/svg+xml</dc:format>\r\n    <dc:creator>\r\n     <cc:Agent>\r\n      <dc:title>Matplotlib v3.4.2, https://matplotlib.org/</dc:title>\r\n     </cc:Agent>\r\n    </dc:creator>\r\n   </cc:Work>\r\n  </rdf:RDF>\r\n </metadata>\r\n <defs>\r\n  <style type=\"text/css\">*{stroke-linecap:butt;stroke-linejoin:round;}</style>\r\n </defs>\r\n <g id=\"figure_1\">\r\n  <g id=\"patch_1\">\r\n   <path d=\"M 0 277.136625 \r\nL 368.925 277.136625 \r\nL 368.925 0 \r\nL 0 0 \r\nz\r\n\" style=\"fill:none;\"/>\r\n  </g>\r\n  <g id=\"axes_1\">\r\n   <g id=\"patch_2\">\r\n    <path d=\"M 20.5625 253.2585 \r\nL 355.3625 253.2585 \r\nL 355.3625 35.8185 \r\nL 20.5625 35.8185 \r\nz\r\n\" style=\"fill:#ffffff;\"/>\r\n   </g>\r\n   <g id=\"matplotlib.axis_1\">\r\n    <g id=\"xtick_1\">\r\n     <g id=\"line2d_1\">\r\n      <defs>\r\n       <path d=\"M 0 0 \r\nL 0 3.5 \r\n\" id=\"me06773fe9d\" style=\"stroke:#000000;stroke-width:0.8;\"/>\r\n      </defs>\r\n      <g>\r\n       <use style=\"stroke:#000000;stroke-width:0.8;\" x=\"46.316346\" xlink:href=\"#me06773fe9d\" y=\"253.2585\"/>\r\n      </g>\r\n     </g>\r\n     <g id=\"text_1\">\r\n      <!-- 2 -->\r\n      <g transform=\"translate(43.135096 267.856937)scale(0.1 -0.1)\">\r\n       <defs>\r\n        <path d=\"M 1228 531 \r\nL 3431 531 \r\nL 3431 0 \r\nL 469 0 \r\nL 469 531 \r\nQ 828 903 1448 1529 \r\nQ 2069 2156 2228 2338 \r\nQ 2531 2678 2651 2914 \r\nQ 2772 3150 2772 3378 \r\nQ 2772 3750 2511 3984 \r\nQ 2250 4219 1831 4219 \r\nQ 1534 4219 1204 4116 \r\nQ 875 4013 500 3803 \r\nL 500 4441 \r\nQ 881 4594 1212 4672 \r\nQ 1544 4750 1819 4750 \r\nQ 2544 4750 2975 4387 \r\nQ 3406 4025 3406 3419 \r\nQ 3406 3131 3298 2873 \r\nQ 3191 2616 2906 2266 \r\nQ 2828 2175 2409 1742 \r\nQ 1991 1309 1228 531 \r\nz\r\n\" id=\"DejaVuSans-32\" transform=\"scale(0.015625)\"/>\r\n       </defs>\r\n       <use xlink:href=\"#DejaVuSans-32\"/>\r\n      </g>\r\n     </g>\r\n    </g>\r\n    <g id=\"xtick_2\">\r\n     <g id=\"line2d_2\">\r\n      <g>\r\n       <use style=\"stroke:#000000;stroke-width:0.8;\" x=\"97.824038\" xlink:href=\"#me06773fe9d\" y=\"253.2585\"/>\r\n      </g>\r\n     </g>\r\n     <g id=\"text_2\">\r\n      <!-- 4 -->\r\n      <g transform=\"translate(94.642788 267.856937)scale(0.1 -0.1)\">\r\n       <defs>\r\n        <path d=\"M 2419 4116 \r\nL 825 1625 \r\nL 2419 1625 \r\nL 2419 4116 \r\nz\r\nM 2253 4666 \r\nL 3047 4666 \r\nL 3047 1625 \r\nL 3713 1625 \r\nL 3713 1100 \r\nL 3047 1100 \r\nL 3047 0 \r\nL 2419 0 \r\nL 2419 1100 \r\nL 313 1100 \r\nL 313 1709 \r\nL 2253 4666 \r\nz\r\n\" id=\"DejaVuSans-34\" transform=\"scale(0.015625)\"/>\r\n       </defs>\r\n       <use xlink:href=\"#DejaVuSans-34\"/>\r\n      </g>\r\n     </g>\r\n    </g>\r\n    <g id=\"xtick_3\">\r\n     <g id=\"line2d_3\">\r\n      <g>\r\n       <use style=\"stroke:#000000;stroke-width:0.8;\" x=\"149.331731\" xlink:href=\"#me06773fe9d\" y=\"253.2585\"/>\r\n      </g>\r\n     </g>\r\n     <g id=\"text_3\">\r\n      <!-- 6 -->\r\n      <g transform=\"translate(146.150481 267.856937)scale(0.1 -0.1)\">\r\n       <defs>\r\n        <path d=\"M 2113 2584 \r\nQ 1688 2584 1439 2293 \r\nQ 1191 2003 1191 1497 \r\nQ 1191 994 1439 701 \r\nQ 1688 409 2113 409 \r\nQ 2538 409 2786 701 \r\nQ 3034 994 3034 1497 \r\nQ 3034 2003 2786 2293 \r\nQ 2538 2584 2113 2584 \r\nz\r\nM 3366 4563 \r\nL 3366 3988 \r\nQ 3128 4100 2886 4159 \r\nQ 2644 4219 2406 4219 \r\nQ 1781 4219 1451 3797 \r\nQ 1122 3375 1075 2522 \r\nQ 1259 2794 1537 2939 \r\nQ 1816 3084 2150 3084 \r\nQ 2853 3084 3261 2657 \r\nQ 3669 2231 3669 1497 \r\nQ 3669 778 3244 343 \r\nQ 2819 -91 2113 -91 \r\nQ 1303 -91 875 529 \r\nQ 447 1150 447 2328 \r\nQ 447 3434 972 4092 \r\nQ 1497 4750 2381 4750 \r\nQ 2619 4750 2861 4703 \r\nQ 3103 4656 3366 4563 \r\nz\r\n\" id=\"DejaVuSans-36\" transform=\"scale(0.015625)\"/>\r\n       </defs>\r\n       <use xlink:href=\"#DejaVuSans-36\"/>\r\n      </g>\r\n     </g>\r\n    </g>\r\n    <g id=\"xtick_4\">\r\n     <g id=\"line2d_4\">\r\n      <g>\r\n       <use style=\"stroke:#000000;stroke-width:0.8;\" x=\"200.839423\" xlink:href=\"#me06773fe9d\" y=\"253.2585\"/>\r\n      </g>\r\n     </g>\r\n     <g id=\"text_4\">\r\n      <!-- 8 -->\r\n      <g transform=\"translate(197.658173 267.856937)scale(0.1 -0.1)\">\r\n       <defs>\r\n        <path d=\"M 2034 2216 \r\nQ 1584 2216 1326 1975 \r\nQ 1069 1734 1069 1313 \r\nQ 1069 891 1326 650 \r\nQ 1584 409 2034 409 \r\nQ 2484 409 2743 651 \r\nQ 3003 894 3003 1313 \r\nQ 3003 1734 2745 1975 \r\nQ 2488 2216 2034 2216 \r\nz\r\nM 1403 2484 \r\nQ 997 2584 770 2862 \r\nQ 544 3141 544 3541 \r\nQ 544 4100 942 4425 \r\nQ 1341 4750 2034 4750 \r\nQ 2731 4750 3128 4425 \r\nQ 3525 4100 3525 3541 \r\nQ 3525 3141 3298 2862 \r\nQ 3072 2584 2669 2484 \r\nQ 3125 2378 3379 2068 \r\nQ 3634 1759 3634 1313 \r\nQ 3634 634 3220 271 \r\nQ 2806 -91 2034 -91 \r\nQ 1263 -91 848 271 \r\nQ 434 634 434 1313 \r\nQ 434 1759 690 2068 \r\nQ 947 2378 1403 2484 \r\nz\r\nM 1172 3481 \r\nQ 1172 3119 1398 2916 \r\nQ 1625 2713 2034 2713 \r\nQ 2441 2713 2670 2916 \r\nQ 2900 3119 2900 3481 \r\nQ 2900 3844 2670 4047 \r\nQ 2441 4250 2034 4250 \r\nQ 1625 4250 1398 4047 \r\nQ 1172 3844 1172 3481 \r\nz\r\n\" id=\"DejaVuSans-38\" transform=\"scale(0.015625)\"/>\r\n       </defs>\r\n       <use xlink:href=\"#DejaVuSans-38\"/>\r\n      </g>\r\n     </g>\r\n    </g>\r\n    <g id=\"xtick_5\">\r\n     <g id=\"line2d_5\">\r\n      <g>\r\n       <use style=\"stroke:#000000;stroke-width:0.8;\" x=\"252.347115\" xlink:href=\"#me06773fe9d\" y=\"253.2585\"/>\r\n      </g>\r\n     </g>\r\n     <g id=\"text_5\">\r\n      <!-- 10 -->\r\n      <g transform=\"translate(245.984615 267.856937)scale(0.1 -0.1)\">\r\n       <defs>\r\n        <path d=\"M 794 531 \r\nL 1825 531 \r\nL 1825 4091 \r\nL 703 3866 \r\nL 703 4441 \r\nL 1819 4666 \r\nL 2450 4666 \r\nL 2450 531 \r\nL 3481 531 \r\nL 3481 0 \r\nL 794 0 \r\nL 794 531 \r\nz\r\n\" id=\"DejaVuSans-31\" transform=\"scale(0.015625)\"/>\r\n        <path d=\"M 2034 4250 \r\nQ 1547 4250 1301 3770 \r\nQ 1056 3291 1056 2328 \r\nQ 1056 1369 1301 889 \r\nQ 1547 409 2034 409 \r\nQ 2525 409 2770 889 \r\nQ 3016 1369 3016 2328 \r\nQ 3016 3291 2770 3770 \r\nQ 2525 4250 2034 4250 \r\nz\r\nM 2034 4750 \r\nQ 2819 4750 3233 4129 \r\nQ 3647 3509 3647 2328 \r\nQ 3647 1150 3233 529 \r\nQ 2819 -91 2034 -91 \r\nQ 1250 -91 836 529 \r\nQ 422 1150 422 2328 \r\nQ 422 3509 836 4129 \r\nQ 1250 4750 2034 4750 \r\nz\r\n\" id=\"DejaVuSans-30\" transform=\"scale(0.015625)\"/>\r\n       </defs>\r\n       <use xlink:href=\"#DejaVuSans-31\"/>\r\n       <use x=\"63.623047\" xlink:href=\"#DejaVuSans-30\"/>\r\n      </g>\r\n     </g>\r\n    </g>\r\n    <g id=\"xtick_6\">\r\n     <g id=\"line2d_6\">\r\n      <g>\r\n       <use style=\"stroke:#000000;stroke-width:0.8;\" x=\"303.854808\" xlink:href=\"#me06773fe9d\" y=\"253.2585\"/>\r\n      </g>\r\n     </g>\r\n     <g id=\"text_6\">\r\n      <!-- 12 -->\r\n      <g transform=\"translate(297.492308 267.856937)scale(0.1 -0.1)\">\r\n       <use xlink:href=\"#DejaVuSans-31\"/>\r\n       <use x=\"63.623047\" xlink:href=\"#DejaVuSans-32\"/>\r\n      </g>\r\n     </g>\r\n    </g>\r\n    <g id=\"xtick_7\">\r\n     <g id=\"line2d_7\">\r\n      <g>\r\n       <use style=\"stroke:#000000;stroke-width:0.8;\" x=\"355.3625\" xlink:href=\"#me06773fe9d\" y=\"253.2585\"/>\r\n      </g>\r\n     </g>\r\n     <g id=\"text_7\">\r\n      <!-- 14 -->\r\n      <g transform=\"translate(349 267.856937)scale(0.1 -0.1)\">\r\n       <use xlink:href=\"#DejaVuSans-31\"/>\r\n       <use x=\"63.623047\" xlink:href=\"#DejaVuSans-34\"/>\r\n      </g>\r\n     </g>\r\n    </g>\r\n   </g>\r\n   <g id=\"matplotlib.axis_2\">\r\n    <g id=\"ytick_1\">\r\n     <g id=\"line2d_8\">\r\n      <defs>\r\n       <path d=\"M 0 0 \r\nL -3.5 0 \r\n\" id=\"mccadf09dc2\" style=\"stroke:#000000;stroke-width:0.8;\"/>\r\n      </defs>\r\n      <g>\r\n       <use style=\"stroke:#000000;stroke-width:0.8;\" x=\"20.5625\" xlink:href=\"#mccadf09dc2\" y=\"243.374864\"/>\r\n      </g>\r\n     </g>\r\n     <g id=\"text_8\">\r\n      <!-- 0 -->\r\n      <g transform=\"translate(7.2 247.174082)scale(0.1 -0.1)\">\r\n       <use xlink:href=\"#DejaVuSans-30\"/>\r\n      </g>\r\n     </g>\r\n    </g>\r\n    <g id=\"ytick_2\">\r\n     <g id=\"line2d_9\">\r\n      <g>\r\n       <use style=\"stroke:#000000;stroke-width:0.8;\" x=\"20.5625\" xlink:href=\"#mccadf09dc2\" y=\"205.779899\"/>\r\n      </g>\r\n     </g>\r\n     <g id=\"text_9\">\r\n      <!-- 1 -->\r\n      <g transform=\"translate(7.2 209.579118)scale(0.1 -0.1)\">\r\n       <use xlink:href=\"#DejaVuSans-31\"/>\r\n      </g>\r\n     </g>\r\n    </g>\r\n    <g id=\"ytick_3\">\r\n     <g id=\"line2d_10\">\r\n      <g>\r\n       <use style=\"stroke:#000000;stroke-width:0.8;\" x=\"20.5625\" xlink:href=\"#mccadf09dc2\" y=\"168.184934\"/>\r\n      </g>\r\n     </g>\r\n     <g id=\"text_10\">\r\n      <!-- 2 -->\r\n      <g transform=\"translate(7.2 171.984153)scale(0.1 -0.1)\">\r\n       <use xlink:href=\"#DejaVuSans-32\"/>\r\n      </g>\r\n     </g>\r\n    </g>\r\n    <g id=\"ytick_4\">\r\n     <g id=\"line2d_11\">\r\n      <g>\r\n       <use style=\"stroke:#000000;stroke-width:0.8;\" x=\"20.5625\" xlink:href=\"#mccadf09dc2\" y=\"130.58997\"/>\r\n      </g>\r\n     </g>\r\n     <g id=\"text_11\">\r\n      <!-- 3 -->\r\n      <g transform=\"translate(7.2 134.389188)scale(0.1 -0.1)\">\r\n       <defs>\r\n        <path d=\"M 2597 2516 \r\nQ 3050 2419 3304 2112 \r\nQ 3559 1806 3559 1356 \r\nQ 3559 666 3084 287 \r\nQ 2609 -91 1734 -91 \r\nQ 1441 -91 1130 -33 \r\nQ 819 25 488 141 \r\nL 488 750 \r\nQ 750 597 1062 519 \r\nQ 1375 441 1716 441 \r\nQ 2309 441 2620 675 \r\nQ 2931 909 2931 1356 \r\nQ 2931 1769 2642 2001 \r\nQ 2353 2234 1838 2234 \r\nL 1294 2234 \r\nL 1294 2753 \r\nL 1863 2753 \r\nQ 2328 2753 2575 2939 \r\nQ 2822 3125 2822 3475 \r\nQ 2822 3834 2567 4026 \r\nQ 2313 4219 1838 4219 \r\nQ 1578 4219 1281 4162 \r\nQ 984 4106 628 3988 \r\nL 628 4550 \r\nQ 988 4650 1302 4700 \r\nQ 1616 4750 1894 4750 \r\nQ 2613 4750 3031 4423 \r\nQ 3450 4097 3450 3541 \r\nQ 3450 3153 3228 2886 \r\nQ 3006 2619 2597 2516 \r\nz\r\n\" id=\"DejaVuSans-33\" transform=\"scale(0.015625)\"/>\r\n       </defs>\r\n       <use xlink:href=\"#DejaVuSans-33\"/>\r\n      </g>\r\n     </g>\r\n    </g>\r\n    <g id=\"ytick_5\">\r\n     <g id=\"line2d_12\">\r\n      <g>\r\n       <use style=\"stroke:#000000;stroke-width:0.8;\" x=\"20.5625\" xlink:href=\"#mccadf09dc2\" y=\"92.995005\"/>\r\n      </g>\r\n     </g>\r\n     <g id=\"text_12\">\r\n      <!-- 4 -->\r\n      <g transform=\"translate(7.2 96.794224)scale(0.1 -0.1)\">\r\n       <use xlink:href=\"#DejaVuSans-34\"/>\r\n      </g>\r\n     </g>\r\n    </g>\r\n    <g id=\"ytick_6\">\r\n     <g id=\"line2d_13\">\r\n      <g>\r\n       <use style=\"stroke:#000000;stroke-width:0.8;\" x=\"20.5625\" xlink:href=\"#mccadf09dc2\" y=\"55.40004\"/>\r\n      </g>\r\n     </g>\r\n     <g id=\"text_13\">\r\n      <!-- 5 -->\r\n      <g transform=\"translate(7.2 59.199259)scale(0.1 -0.1)\">\r\n       <defs>\r\n        <path d=\"M 691 4666 \r\nL 3169 4666 \r\nL 3169 4134 \r\nL 1269 4134 \r\nL 1269 2991 \r\nQ 1406 3038 1543 3061 \r\nQ 1681 3084 1819 3084 \r\nQ 2600 3084 3056 2656 \r\nQ 3513 2228 3513 1497 \r\nQ 3513 744 3044 326 \r\nQ 2575 -91 1722 -91 \r\nQ 1428 -91 1123 -41 \r\nQ 819 9 494 109 \r\nL 494 744 \r\nQ 775 591 1075 516 \r\nQ 1375 441 1709 441 \r\nQ 2250 441 2565 725 \r\nQ 2881 1009 2881 1497 \r\nQ 2881 1984 2565 2268 \r\nQ 2250 2553 1709 2553 \r\nQ 1456 2553 1204 2497 \r\nQ 953 2441 691 2322 \r\nL 691 4666 \r\nz\r\n\" id=\"DejaVuSans-35\" transform=\"scale(0.015625)\"/>\r\n       </defs>\r\n       <use xlink:href=\"#DejaVuSans-35\"/>\r\n      </g>\r\n     </g>\r\n    </g>\r\n   </g>\r\n   <g id=\"line2d_14\">\r\n    <path clip-path=\"url(#p075f173484)\" style=\"fill:none;stroke:#008000;stroke-linecap:square;stroke-width:1.5;\"/>\r\n   </g>\r\n   <g id=\"line2d_15\">\r\n    <path clip-path=\"url(#p075f173484)\" d=\"M -1 51.5219 \r\nL 20.5625 81.461838 \r\n\" style=\"fill:none;stroke:#008000;stroke-linecap:square;stroke-width:1.5;\"/>\r\n   </g>\r\n   <g id=\"line2d_16\">\r\n    <path clip-path=\"url(#p075f173484)\" d=\"M -1 51.5219 \r\nL 20.5625 81.461838 \r\nL 46.316346 50.645616 \r\n\" style=\"fill:none;stroke:#008000;stroke-linecap:square;stroke-width:1.5;\"/>\r\n   </g>\r\n   <g id=\"line2d_17\">\r\n    <path clip-path=\"url(#p075f173484)\" d=\"M -1 51.5219 \r\nL 20.5625 81.461838 \r\nL 46.316346 50.645616 \r\nL 72.070192 56.702545 \r\n\" style=\"fill:none;stroke:#008000;stroke-linecap:square;stroke-width:1.5;\"/>\r\n   </g>\r\n   <g id=\"line2d_18\">\r\n    <path clip-path=\"url(#p075f173484)\" d=\"M -1 51.5219 \r\nL 20.5625 81.461838 \r\nL 46.316346 50.645616 \r\nL 72.070192 56.702545 \r\nL 97.824038 85.542784 \r\n\" style=\"fill:none;stroke:#008000;stroke-linecap:square;stroke-width:1.5;\"/>\r\n   </g>\r\n   <g id=\"line2d_19\">\r\n    <path clip-path=\"url(#p075f173484)\" d=\"M -1 51.5219 \r\nL 20.5625 81.461838 \r\nL 46.316346 50.645616 \r\nL 72.070192 56.702545 \r\nL 97.824038 85.542784 \r\nL 123.577885 70.569705 \r\n\" style=\"fill:none;stroke:#008000;stroke-linecap:square;stroke-width:1.5;\"/>\r\n   </g>\r\n   <g id=\"line2d_20\">\r\n    <path clip-path=\"url(#p075f173484)\" d=\"M -1 51.5219 \r\nL 20.5625 81.461838 \r\nL 46.316346 50.645616 \r\nL 72.070192 56.702545 \r\nL 97.824038 85.542784 \r\nL 123.577885 70.569705 \r\nL 149.331731 85.036525 \r\n\" style=\"fill:none;stroke:#008000;stroke-linecap:square;stroke-width:1.5;\"/>\r\n   </g>\r\n   <g id=\"line2d_21\">\r\n    <path clip-path=\"url(#p075f173484)\" d=\"M -1 51.5219 \r\nL 20.5625 81.461838 \r\nL 46.316346 50.645616 \r\nL 72.070192 56.702545 \r\nL 97.824038 85.542784 \r\nL 123.577885 70.569705 \r\nL 149.331731 85.036525 \r\nL 175.085577 87.567256 \r\n\" style=\"fill:none;stroke:#008000;stroke-linecap:square;stroke-width:1.5;\"/>\r\n   </g>\r\n   <g id=\"line2d_22\">\r\n    <path clip-path=\"url(#p075f173484)\" d=\"M -1 51.5219 \r\nL 20.5625 81.461838 \r\nL 46.316346 50.645616 \r\nL 72.070192 56.702545 \r\nL 97.824038 85.542784 \r\nL 123.577885 70.569705 \r\nL 149.331731 85.036525 \r\nL 175.085577 87.567256 \r\nL 200.839423 93.078083 \r\n\" style=\"fill:none;stroke:#008000;stroke-linecap:square;stroke-width:1.5;\"/>\r\n   </g>\r\n   <g id=\"line2d_23\">\r\n    <path clip-path=\"url(#p075f173484)\" d=\"M -1 51.5219 \r\nL 20.5625 81.461838 \r\nL 46.316346 50.645616 \r\nL 72.070192 56.702545 \r\nL 97.824038 85.542784 \r\nL 123.577885 70.569705 \r\nL 149.331731 85.036525 \r\nL 175.085577 87.567256 \r\nL 200.839423 93.078083 \r\nL 226.593269 94.163161 \r\n\" style=\"fill:none;stroke:#008000;stroke-linecap:square;stroke-width:1.5;\"/>\r\n   </g>\r\n   <g id=\"line2d_24\">\r\n    <path clip-path=\"url(#p075f173484)\" d=\"M -1 51.5219 \r\nL 20.5625 81.461838 \r\nL 46.316346 50.645616 \r\nL 72.070192 56.702545 \r\nL 97.824038 85.542784 \r\nL 123.577885 70.569705 \r\nL 149.331731 85.036525 \r\nL 175.085577 87.567256 \r\nL 200.839423 93.078083 \r\nL 226.593269 94.163161 \r\nL 252.347115 108.951124 \r\n\" style=\"fill:none;stroke:#008000;stroke-linecap:square;stroke-width:1.5;\"/>\r\n   </g>\r\n   <g id=\"line2d_25\">\r\n    <path clip-path=\"url(#p075f173484)\" d=\"M -1 51.5219 \r\nL 20.5625 81.461838 \r\nL 46.316346 50.645616 \r\nL 72.070192 56.702545 \r\nL 97.824038 85.542784 \r\nL 123.577885 70.569705 \r\nL 149.331731 85.036525 \r\nL 175.085577 87.567256 \r\nL 200.839423 93.078083 \r\nL 226.593269 94.163161 \r\nL 252.347115 108.951124 \r\nL 278.100962 151.34511 \r\n\" style=\"fill:none;stroke:#008000;stroke-linecap:square;stroke-width:1.5;\"/>\r\n   </g>\r\n   <g id=\"line2d_26\">\r\n    <path clip-path=\"url(#p075f173484)\" d=\"M -1 51.5219 \r\nL 20.5625 81.461838 \r\nL 46.316346 50.645616 \r\nL 72.070192 56.702545 \r\nL 97.824038 85.542784 \r\nL 123.577885 70.569705 \r\nL 149.331731 85.036525 \r\nL 175.085577 87.567256 \r\nL 200.839423 93.078083 \r\nL 226.593269 94.163161 \r\nL 252.347115 108.951124 \r\nL 278.100962 151.34511 \r\nL 303.854808 243.374864 \r\n\" style=\"fill:none;stroke:#008000;stroke-linecap:square;stroke-width:1.5;\"/>\r\n   </g>\r\n   <g id=\"line2d_27\">\r\n    <path clip-path=\"url(#p075f173484)\" d=\"M -1 51.5219 \r\nL 20.5625 81.461838 \r\nL 46.316346 50.645616 \r\nL 72.070192 56.702545 \r\nL 97.824038 85.542784 \r\nL 123.577885 70.569705 \r\nL 149.331731 85.036525 \r\nL 175.085577 87.567256 \r\nL 200.839423 93.078083 \r\nL 226.593269 94.163161 \r\nL 252.347115 108.951124 \r\nL 278.100962 151.34511 \r\nL 303.854808 243.374864 \r\nL 329.608654 243.374864 \r\n\" style=\"fill:none;stroke:#008000;stroke-linecap:square;stroke-width:1.5;\"/>\r\n   </g>\r\n   <g id=\"patch_3\">\r\n    <path d=\"M 20.5625 253.2585 \r\nL 20.5625 35.8185 \r\n\" style=\"fill:none;stroke:#000000;stroke-linecap:square;stroke-linejoin:miter;stroke-width:0.8;\"/>\r\n   </g>\r\n   <g id=\"patch_4\">\r\n    <path d=\"M 355.3625 253.2585 \r\nL 355.3625 35.8185 \r\n\" style=\"fill:none;stroke:#000000;stroke-linecap:square;stroke-linejoin:miter;stroke-width:0.8;\"/>\r\n   </g>\r\n   <g id=\"patch_5\">\r\n    <path d=\"M 20.5625 253.2585 \r\nL 355.3625 253.2585 \r\n\" style=\"fill:none;stroke:#000000;stroke-linecap:square;stroke-linejoin:miter;stroke-width:0.8;\"/>\r\n   </g>\r\n   <g id=\"patch_6\">\r\n    <path d=\"M 20.5625 35.8185 \r\nL 355.3625 35.8185 \r\n\" style=\"fill:none;stroke:#000000;stroke-linecap:square;stroke-linejoin:miter;stroke-width:0.8;\"/>\r\n   </g>\r\n   <g id=\"text_14\">\r\n    <!-- stopped on request  -->\r\n    <g transform=\"translate(127.695312 16.318125)scale(0.12 -0.12)\">\r\n     <defs>\r\n      <path d=\"M 2834 3397 \r\nL 2834 2853 \r\nQ 2591 2978 2328 3040 \r\nQ 2066 3103 1784 3103 \r\nQ 1356 3103 1142 2972 \r\nQ 928 2841 928 2578 \r\nQ 928 2378 1081 2264 \r\nQ 1234 2150 1697 2047 \r\nL 1894 2003 \r\nQ 2506 1872 2764 1633 \r\nQ 3022 1394 3022 966 \r\nQ 3022 478 2636 193 \r\nQ 2250 -91 1575 -91 \r\nQ 1294 -91 989 -36 \r\nQ 684 19 347 128 \r\nL 347 722 \r\nQ 666 556 975 473 \r\nQ 1284 391 1588 391 \r\nQ 1994 391 2212 530 \r\nQ 2431 669 2431 922 \r\nQ 2431 1156 2273 1281 \r\nQ 2116 1406 1581 1522 \r\nL 1381 1569 \r\nQ 847 1681 609 1914 \r\nQ 372 2147 372 2553 \r\nQ 372 3047 722 3315 \r\nQ 1072 3584 1716 3584 \r\nQ 2034 3584 2315 3537 \r\nQ 2597 3491 2834 3397 \r\nz\r\n\" id=\"DejaVuSans-73\" transform=\"scale(0.015625)\"/>\r\n      <path d=\"M 1172 4494 \r\nL 1172 3500 \r\nL 2356 3500 \r\nL 2356 3053 \r\nL 1172 3053 \r\nL 1172 1153 \r\nQ 1172 725 1289 603 \r\nQ 1406 481 1766 481 \r\nL 2356 481 \r\nL 2356 0 \r\nL 1766 0 \r\nQ 1100 0 847 248 \r\nQ 594 497 594 1153 \r\nL 594 3053 \r\nL 172 3053 \r\nL 172 3500 \r\nL 594 3500 \r\nL 594 4494 \r\nL 1172 4494 \r\nz\r\n\" id=\"DejaVuSans-74\" transform=\"scale(0.015625)\"/>\r\n      <path d=\"M 1959 3097 \r\nQ 1497 3097 1228 2736 \r\nQ 959 2375 959 1747 \r\nQ 959 1119 1226 758 \r\nQ 1494 397 1959 397 \r\nQ 2419 397 2687 759 \r\nQ 2956 1122 2956 1747 \r\nQ 2956 2369 2687 2733 \r\nQ 2419 3097 1959 3097 \r\nz\r\nM 1959 3584 \r\nQ 2709 3584 3137 3096 \r\nQ 3566 2609 3566 1747 \r\nQ 3566 888 3137 398 \r\nQ 2709 -91 1959 -91 \r\nQ 1206 -91 779 398 \r\nQ 353 888 353 1747 \r\nQ 353 2609 779 3096 \r\nQ 1206 3584 1959 3584 \r\nz\r\n\" id=\"DejaVuSans-6f\" transform=\"scale(0.015625)\"/>\r\n      <path d=\"M 1159 525 \r\nL 1159 -1331 \r\nL 581 -1331 \r\nL 581 3500 \r\nL 1159 3500 \r\nL 1159 2969 \r\nQ 1341 3281 1617 3432 \r\nQ 1894 3584 2278 3584 \r\nQ 2916 3584 3314 3078 \r\nQ 3713 2572 3713 1747 \r\nQ 3713 922 3314 415 \r\nQ 2916 -91 2278 -91 \r\nQ 1894 -91 1617 61 \r\nQ 1341 213 1159 525 \r\nz\r\nM 3116 1747 \r\nQ 3116 2381 2855 2742 \r\nQ 2594 3103 2138 3103 \r\nQ 1681 3103 1420 2742 \r\nQ 1159 2381 1159 1747 \r\nQ 1159 1113 1420 752 \r\nQ 1681 391 2138 391 \r\nQ 2594 391 2855 752 \r\nQ 3116 1113 3116 1747 \r\nz\r\n\" id=\"DejaVuSans-70\" transform=\"scale(0.015625)\"/>\r\n      <path d=\"M 3597 1894 \r\nL 3597 1613 \r\nL 953 1613 \r\nQ 991 1019 1311 708 \r\nQ 1631 397 2203 397 \r\nQ 2534 397 2845 478 \r\nQ 3156 559 3463 722 \r\nL 3463 178 \r\nQ 3153 47 2828 -22 \r\nQ 2503 -91 2169 -91 \r\nQ 1331 -91 842 396 \r\nQ 353 884 353 1716 \r\nQ 353 2575 817 3079 \r\nQ 1281 3584 2069 3584 \r\nQ 2775 3584 3186 3129 \r\nQ 3597 2675 3597 1894 \r\nz\r\nM 3022 2063 \r\nQ 3016 2534 2758 2815 \r\nQ 2500 3097 2075 3097 \r\nQ 1594 3097 1305 2825 \r\nQ 1016 2553 972 2059 \r\nL 3022 2063 \r\nz\r\n\" id=\"DejaVuSans-65\" transform=\"scale(0.015625)\"/>\r\n      <path d=\"M 2906 2969 \r\nL 2906 4863 \r\nL 3481 4863 \r\nL 3481 0 \r\nL 2906 0 \r\nL 2906 525 \r\nQ 2725 213 2448 61 \r\nQ 2172 -91 1784 -91 \r\nQ 1150 -91 751 415 \r\nQ 353 922 353 1747 \r\nQ 353 2572 751 3078 \r\nQ 1150 3584 1784 3584 \r\nQ 2172 3584 2448 3432 \r\nQ 2725 3281 2906 2969 \r\nz\r\nM 947 1747 \r\nQ 947 1113 1208 752 \r\nQ 1469 391 1925 391 \r\nQ 2381 391 2643 752 \r\nQ 2906 1113 2906 1747 \r\nQ 2906 2381 2643 2742 \r\nQ 2381 3103 1925 3103 \r\nQ 1469 3103 1208 2742 \r\nQ 947 2381 947 1747 \r\nz\r\n\" id=\"DejaVuSans-64\" transform=\"scale(0.015625)\"/>\r\n      <path id=\"DejaVuSans-20\" transform=\"scale(0.015625)\"/>\r\n      <path d=\"M 3513 2113 \r\nL 3513 0 \r\nL 2938 0 \r\nL 2938 2094 \r\nQ 2938 2591 2744 2837 \r\nQ 2550 3084 2163 3084 \r\nQ 1697 3084 1428 2787 \r\nQ 1159 2491 1159 1978 \r\nL 1159 0 \r\nL 581 0 \r\nL 581 3500 \r\nL 1159 3500 \r\nL 1159 2956 \r\nQ 1366 3272 1645 3428 \r\nQ 1925 3584 2291 3584 \r\nQ 2894 3584 3203 3211 \r\nQ 3513 2838 3513 2113 \r\nz\r\n\" id=\"DejaVuSans-6e\" transform=\"scale(0.015625)\"/>\r\n      <path d=\"M 2631 2963 \r\nQ 2534 3019 2420 3045 \r\nQ 2306 3072 2169 3072 \r\nQ 1681 3072 1420 2755 \r\nQ 1159 2438 1159 1844 \r\nL 1159 0 \r\nL 581 0 \r\nL 581 3500 \r\nL 1159 3500 \r\nL 1159 2956 \r\nQ 1341 3275 1631 3429 \r\nQ 1922 3584 2338 3584 \r\nQ 2397 3584 2469 3576 \r\nQ 2541 3569 2628 3553 \r\nL 2631 2963 \r\nz\r\n\" id=\"DejaVuSans-72\" transform=\"scale(0.015625)\"/>\r\n      <path d=\"M 947 1747 \r\nQ 947 1113 1208 752 \r\nQ 1469 391 1925 391 \r\nQ 2381 391 2643 752 \r\nQ 2906 1113 2906 1747 \r\nQ 2906 2381 2643 2742 \r\nQ 2381 3103 1925 3103 \r\nQ 1469 3103 1208 2742 \r\nQ 947 2381 947 1747 \r\nz\r\nM 2906 525 \r\nQ 2725 213 2448 61 \r\nQ 2172 -91 1784 -91 \r\nQ 1150 -91 751 415 \r\nQ 353 922 353 1747 \r\nQ 353 2572 751 3078 \r\nQ 1150 3584 1784 3584 \r\nQ 2172 3584 2448 3432 \r\nQ 2725 3281 2906 2969 \r\nL 2906 3500 \r\nL 3481 3500 \r\nL 3481 -1331 \r\nL 2906 -1331 \r\nL 2906 525 \r\nz\r\n\" id=\"DejaVuSans-71\" transform=\"scale(0.015625)\"/>\r\n      <path d=\"M 544 1381 \r\nL 544 3500 \r\nL 1119 3500 \r\nL 1119 1403 \r\nQ 1119 906 1312 657 \r\nQ 1506 409 1894 409 \r\nQ 2359 409 2629 706 \r\nQ 2900 1003 2900 1516 \r\nL 2900 3500 \r\nL 3475 3500 \r\nL 3475 0 \r\nL 2900 0 \r\nL 2900 538 \r\nQ 2691 219 2414 64 \r\nQ 2138 -91 1772 -91 \r\nQ 1169 -91 856 284 \r\nQ 544 659 544 1381 \r\nz\r\nM 1991 3584 \r\nL 1991 3584 \r\nz\r\n\" id=\"DejaVuSans-75\" transform=\"scale(0.015625)\"/>\r\n     </defs>\r\n     <use xlink:href=\"#DejaVuSans-73\"/>\r\n     <use x=\"52.099609\" xlink:href=\"#DejaVuSans-74\"/>\r\n     <use x=\"91.308594\" xlink:href=\"#DejaVuSans-6f\"/>\r\n     <use x=\"152.490234\" xlink:href=\"#DejaVuSans-70\"/>\r\n     <use x=\"215.966797\" xlink:href=\"#DejaVuSans-70\"/>\r\n     <use x=\"279.443359\" xlink:href=\"#DejaVuSans-65\"/>\r\n     <use x=\"340.966797\" xlink:href=\"#DejaVuSans-64\"/>\r\n     <use x=\"404.443359\" xlink:href=\"#DejaVuSans-20\"/>\r\n     <use x=\"436.230469\" xlink:href=\"#DejaVuSans-6f\"/>\r\n     <use x=\"497.412109\" xlink:href=\"#DejaVuSans-6e\"/>\r\n     <use x=\"560.791016\" xlink:href=\"#DejaVuSans-20\"/>\r\n     <use x=\"592.578125\" xlink:href=\"#DejaVuSans-72\"/>\r\n     <use x=\"631.441406\" xlink:href=\"#DejaVuSans-65\"/>\r\n     <use x=\"692.964844\" xlink:href=\"#DejaVuSans-71\"/>\r\n     <use x=\"756.441406\" xlink:href=\"#DejaVuSans-75\"/>\r\n     <use x=\"819.820312\" xlink:href=\"#DejaVuSans-65\"/>\r\n     <use x=\"881.34375\" xlink:href=\"#DejaVuSans-73\"/>\r\n     <use x=\"933.443359\" xlink:href=\"#DejaVuSans-74\"/>\r\n     <use x=\"972.652344\" xlink:href=\"#DejaVuSans-20\"/>\r\n    </g>\r\n    <!--  Time : 1.7452647 s | Iterations : 15 | Espilon : 0.05 -->\r\n    <g transform=\"translate(33.617188 29.8185)scale(0.12 -0.12)\">\r\n     <defs>\r\n      <path d=\"M -19 4666 \r\nL 3928 4666 \r\nL 3928 4134 \r\nL 2272 4134 \r\nL 2272 0 \r\nL 1638 0 \r\nL 1638 4134 \r\nL -19 4134 \r\nL -19 4666 \r\nz\r\n\" id=\"DejaVuSans-54\" transform=\"scale(0.015625)\"/>\r\n      <path d=\"M 603 3500 \r\nL 1178 3500 \r\nL 1178 0 \r\nL 603 0 \r\nL 603 3500 \r\nz\r\nM 603 4863 \r\nL 1178 4863 \r\nL 1178 4134 \r\nL 603 4134 \r\nL 603 4863 \r\nz\r\n\" id=\"DejaVuSans-69\" transform=\"scale(0.015625)\"/>\r\n      <path d=\"M 3328 2828 \r\nQ 3544 3216 3844 3400 \r\nQ 4144 3584 4550 3584 \r\nQ 5097 3584 5394 3201 \r\nQ 5691 2819 5691 2113 \r\nL 5691 0 \r\nL 5113 0 \r\nL 5113 2094 \r\nQ 5113 2597 4934 2840 \r\nQ 4756 3084 4391 3084 \r\nQ 3944 3084 3684 2787 \r\nQ 3425 2491 3425 1978 \r\nL 3425 0 \r\nL 2847 0 \r\nL 2847 2094 \r\nQ 2847 2600 2669 2842 \r\nQ 2491 3084 2119 3084 \r\nQ 1678 3084 1418 2786 \r\nQ 1159 2488 1159 1978 \r\nL 1159 0 \r\nL 581 0 \r\nL 581 3500 \r\nL 1159 3500 \r\nL 1159 2956 \r\nQ 1356 3278 1631 3431 \r\nQ 1906 3584 2284 3584 \r\nQ 2666 3584 2933 3390 \r\nQ 3200 3197 3328 2828 \r\nz\r\n\" id=\"DejaVuSans-6d\" transform=\"scale(0.015625)\"/>\r\n      <path d=\"M 750 794 \r\nL 1409 794 \r\nL 1409 0 \r\nL 750 0 \r\nL 750 794 \r\nz\r\nM 750 3309 \r\nL 1409 3309 \r\nL 1409 2516 \r\nL 750 2516 \r\nL 750 3309 \r\nz\r\n\" id=\"DejaVuSans-3a\" transform=\"scale(0.015625)\"/>\r\n      <path d=\"M 684 794 \r\nL 1344 794 \r\nL 1344 0 \r\nL 684 0 \r\nL 684 794 \r\nz\r\n\" id=\"DejaVuSans-2e\" transform=\"scale(0.015625)\"/>\r\n      <path d=\"M 525 4666 \r\nL 3525 4666 \r\nL 3525 4397 \r\nL 1831 0 \r\nL 1172 0 \r\nL 2766 4134 \r\nL 525 4134 \r\nL 525 4666 \r\nz\r\n\" id=\"DejaVuSans-37\" transform=\"scale(0.015625)\"/>\r\n      <path d=\"M 1344 4891 \r\nL 1344 -1509 \r\nL 813 -1509 \r\nL 813 4891 \r\nL 1344 4891 \r\nz\r\n\" id=\"DejaVuSans-7c\" transform=\"scale(0.015625)\"/>\r\n      <path d=\"M 628 4666 \r\nL 1259 4666 \r\nL 1259 0 \r\nL 628 0 \r\nL 628 4666 \r\nz\r\n\" id=\"DejaVuSans-49\" transform=\"scale(0.015625)\"/>\r\n      <path d=\"M 2194 1759 \r\nQ 1497 1759 1228 1600 \r\nQ 959 1441 959 1056 \r\nQ 959 750 1161 570 \r\nQ 1363 391 1709 391 \r\nQ 2188 391 2477 730 \r\nQ 2766 1069 2766 1631 \r\nL 2766 1759 \r\nL 2194 1759 \r\nz\r\nM 3341 1997 \r\nL 3341 0 \r\nL 2766 0 \r\nL 2766 531 \r\nQ 2569 213 2275 61 \r\nQ 1981 -91 1556 -91 \r\nQ 1019 -91 701 211 \r\nQ 384 513 384 1019 \r\nQ 384 1609 779 1909 \r\nQ 1175 2209 1959 2209 \r\nL 2766 2209 \r\nL 2766 2266 \r\nQ 2766 2663 2505 2880 \r\nQ 2244 3097 1772 3097 \r\nQ 1472 3097 1187 3025 \r\nQ 903 2953 641 2809 \r\nL 641 3341 \r\nQ 956 3463 1253 3523 \r\nQ 1550 3584 1831 3584 \r\nQ 2591 3584 2966 3190 \r\nQ 3341 2797 3341 1997 \r\nz\r\n\" id=\"DejaVuSans-61\" transform=\"scale(0.015625)\"/>\r\n      <path d=\"M 628 4666 \r\nL 3578 4666 \r\nL 3578 4134 \r\nL 1259 4134 \r\nL 1259 2753 \r\nL 3481 2753 \r\nL 3481 2222 \r\nL 1259 2222 \r\nL 1259 531 \r\nL 3634 531 \r\nL 3634 0 \r\nL 628 0 \r\nL 628 4666 \r\nz\r\n\" id=\"DejaVuSans-45\" transform=\"scale(0.015625)\"/>\r\n      <path d=\"M 603 4863 \r\nL 1178 4863 \r\nL 1178 0 \r\nL 603 0 \r\nL 603 4863 \r\nz\r\n\" id=\"DejaVuSans-6c\" transform=\"scale(0.015625)\"/>\r\n     </defs>\r\n     <use xlink:href=\"#DejaVuSans-20\"/>\r\n     <use x=\"31.787109\" xlink:href=\"#DejaVuSans-54\"/>\r\n     <use x=\"89.746094\" xlink:href=\"#DejaVuSans-69\"/>\r\n     <use x=\"117.529297\" xlink:href=\"#DejaVuSans-6d\"/>\r\n     <use x=\"214.941406\" xlink:href=\"#DejaVuSans-65\"/>\r\n     <use x=\"276.464844\" xlink:href=\"#DejaVuSans-20\"/>\r\n     <use x=\"308.251953\" xlink:href=\"#DejaVuSans-3a\"/>\r\n     <use x=\"341.943359\" xlink:href=\"#DejaVuSans-20\"/>\r\n     <use x=\"373.730469\" xlink:href=\"#DejaVuSans-31\"/>\r\n     <use x=\"437.353516\" xlink:href=\"#DejaVuSans-2e\"/>\r\n     <use x=\"469.140625\" xlink:href=\"#DejaVuSans-37\"/>\r\n     <use x=\"532.763672\" xlink:href=\"#DejaVuSans-34\"/>\r\n     <use x=\"596.386719\" xlink:href=\"#DejaVuSans-35\"/>\r\n     <use x=\"660.009766\" xlink:href=\"#DejaVuSans-32\"/>\r\n     <use x=\"723.632812\" xlink:href=\"#DejaVuSans-36\"/>\r\n     <use x=\"787.255859\" xlink:href=\"#DejaVuSans-34\"/>\r\n     <use x=\"850.878906\" xlink:href=\"#DejaVuSans-37\"/>\r\n     <use x=\"914.501953\" xlink:href=\"#DejaVuSans-20\"/>\r\n     <use x=\"946.289062\" xlink:href=\"#DejaVuSans-73\"/>\r\n     <use x=\"998.388672\" xlink:href=\"#DejaVuSans-20\"/>\r\n     <use x=\"1030.175781\" xlink:href=\"#DejaVuSans-7c\"/>\r\n     <use x=\"1063.867188\" xlink:href=\"#DejaVuSans-20\"/>\r\n     <use x=\"1095.654297\" xlink:href=\"#DejaVuSans-49\"/>\r\n     <use x=\"1125.146484\" xlink:href=\"#DejaVuSans-74\"/>\r\n     <use x=\"1164.355469\" xlink:href=\"#DejaVuSans-65\"/>\r\n     <use x=\"1225.878906\" xlink:href=\"#DejaVuSans-72\"/>\r\n     <use x=\"1266.992188\" xlink:href=\"#DejaVuSans-61\"/>\r\n     <use x=\"1328.271484\" xlink:href=\"#DejaVuSans-74\"/>\r\n     <use x=\"1367.480469\" xlink:href=\"#DejaVuSans-69\"/>\r\n     <use x=\"1395.263672\" xlink:href=\"#DejaVuSans-6f\"/>\r\n     <use x=\"1456.445312\" xlink:href=\"#DejaVuSans-6e\"/>\r\n     <use x=\"1519.824219\" xlink:href=\"#DejaVuSans-73\"/>\r\n     <use x=\"1571.923828\" xlink:href=\"#DejaVuSans-20\"/>\r\n     <use x=\"1603.710938\" xlink:href=\"#DejaVuSans-3a\"/>\r\n     <use x=\"1637.402344\" xlink:href=\"#DejaVuSans-20\"/>\r\n     <use x=\"1669.189453\" xlink:href=\"#DejaVuSans-31\"/>\r\n     <use x=\"1732.8125\" xlink:href=\"#DejaVuSans-35\"/>\r\n     <use x=\"1796.435547\" xlink:href=\"#DejaVuSans-20\"/>\r\n     <use x=\"1828.222656\" xlink:href=\"#DejaVuSans-7c\"/>\r\n     <use x=\"1861.914062\" xlink:href=\"#DejaVuSans-20\"/>\r\n     <use x=\"1893.701172\" xlink:href=\"#DejaVuSans-45\"/>\r\n     <use x=\"1956.884766\" xlink:href=\"#DejaVuSans-73\"/>\r\n     <use x=\"2008.984375\" xlink:href=\"#DejaVuSans-70\"/>\r\n     <use x=\"2072.460938\" xlink:href=\"#DejaVuSans-69\"/>\r\n     <use x=\"2100.244141\" xlink:href=\"#DejaVuSans-6c\"/>\r\n     <use x=\"2128.027344\" xlink:href=\"#DejaVuSans-6f\"/>\r\n     <use x=\"2189.208984\" xlink:href=\"#DejaVuSans-6e\"/>\r\n     <use x=\"2252.587891\" xlink:href=\"#DejaVuSans-20\"/>\r\n     <use x=\"2284.375\" xlink:href=\"#DejaVuSans-3a\"/>\r\n     <use x=\"2318.066406\" xlink:href=\"#DejaVuSans-20\"/>\r\n     <use x=\"2349.853516\" xlink:href=\"#DejaVuSans-30\"/>\r\n     <use x=\"2413.476562\" xlink:href=\"#DejaVuSans-2e\"/>\r\n     <use x=\"2445.263672\" xlink:href=\"#DejaVuSans-30\"/>\r\n     <use x=\"2508.886719\" xlink:href=\"#DejaVuSans-35\"/>\r\n    </g>\r\n   </g>\r\n  </g>\r\n </g>\r\n <defs>\r\n  <clipPath id=\"p075f173484\">\r\n   <rect height=\"217.44\" width=\"334.8\" x=\"20.5625\" y=\"35.8185\"/>\r\n  </clipPath>\r\n </defs>\r\n</svg>\r\n"
     },
     "metadata": {
      "needs_background": "light"
     }
    }
   ],
   "source": [
    "import numpy as np\n",
    "%matplotlib inline\n",
    "\n",
    "learner=gum.BNLearner(\"out/sample_asia.csv\",bn) #using bn as template for variables\n",
    "learner.useLocalSearchWithTabuList()\n",
    "\n",
    "# we could prefere a log2likelihood score\n",
    "#learner.useScoreLog2Likelihood()\n",
    "learner.setMaxTime(10)\n",
    "\n",
    "# representation of the error as a pseudo log (negative values really represents negative epsilon\n",
    "@np.vectorize\n",
    "def pseudolog(x):\n",
    "    seuil=2.0\n",
    "    y=-x if x<0 else x\n",
    "        \n",
    "    if y<seuil:\n",
    "        res=y*np.log10(seuil)/seuil\n",
    "    else:\n",
    "        res=np.log10(y)\n",
    "        \n",
    "    return res if x>0 else -res\n",
    "\n",
    "# in order to control the complexity, we limit the number of parents\n",
    "learner.setMaxIndegree(4) # no more than 3 parent by node\n",
    "gnb.animApproximationScheme(learner,\n",
    "                            scale=pseudolog) # scale by default is np.log10\n",
    "\n",
    "bn2=learner.learnBN()\n"
   ]
  },
  {
   "source": [
    "1) Comparer les résultats des différents algorithmes"
   ],
   "cell_type": "markdown",
   "metadata": {}
  },
  {
   "cell_type": "code",
   "execution_count": null,
   "metadata": {},
   "outputs": [],
   "source": []
  },
  {
   "cell_type": "markdown",
   "metadata": {},
   "source": [
    "# Personnalisation des algorithmes\n",
    "\n",
    "Les algorithmes d'apprentissage proposés dans pyAgrum sont fortement paramétrables, ce qui permet notamment de prendre en compte des connaissances a priori sur la structure à apprendre."
   ]
  },
  {
   "cell_type": "markdown",
   "metadata": {},
   "source": [
    "1) Apprendre la structure d'un BN depuis le fichier \"out/sample_asia.csv\" en jouant sur le paramètre MaxIndegree du learner. Observer la structure lorsque le paramètre vaut **1**."
   ]
  },
  {
   "cell_type": "code",
   "execution_count": null,
   "metadata": {},
   "outputs": [],
   "source": []
  },
  {
   "cell_type": "markdown",
   "metadata": {},
   "source": [
    "2) Apprendre la structure depuis la même base de données mais cette fois-ci en utilisant nos connaissances sur la structure du BN :\n",
    "\n",
    "+ Fumer a une influence directe sur la possibilité d'avoir un cancer du poumon\n",
    "+ Une visite en Asie modifie le risque de contracter la tuberculose"
   ]
  },
  {
   "cell_type": "code",
   "execution_count": null,
   "metadata": {},
   "outputs": [],
   "source": []
  },
  {
   "cell_type": "markdown",
   "metadata": {},
   "source": [
    "Différents scores peuvent-être utilisés pour évaluer la qualité de l'apprentissage :\n",
    "\n",
    "- BDeu (par défaut)\n",
    "- K2\n",
    "- AIC\n",
    "- Log2Likelihood\n",
    "- ..."
   ]
  },
  {
   "cell_type": "markdown",
   "metadata": {},
   "source": [
    "3) Faire varier le score utilisé et observer l'influence de celui-ci sur la structure et la distance au bn initial en utilisant le code suivant :\n",
    "\n",
    "        kl=gum.ExactBNdistance(bn,bn2)\n",
    "        gnb.sideBySide(bn2,\n",
    "               \"<br/>\".join([\"<b>\"+k+\"</b> :\"+str(v) for k,v in kl.compute().items()]),\n",
    "               captions=[\"learned BN\",\"distances\"])"
   ]
  },
  {
   "cell_type": "code",
   "execution_count": null,
   "metadata": {},
   "outputs": [],
   "source": []
  },
  {
   "cell_type": "markdown",
   "metadata": {},
   "source": [
    "# Taille de la base de données et apprentissage\n",
    "\n",
    "Pour finir, nous allons observer l'influence de la taille de la base de données sur la qualité de l'apprentissage."
   ]
  },
  {
   "cell_type": "code",
   "execution_count": 51,
   "metadata": {
    "ExecuteTime": {
     "end_time": "2019-02-25T16:06:47.922726Z",
     "start_time": "2019-02-25T16:06:47.916598Z"
    },
    "execution": {
     "iopub.execute_input": "2021-05-08T13:16:23.728382Z",
     "iopub.status.busy": "2021-05-08T13:16:23.728382Z",
     "iopub.status.idle": "2021-05-08T13:16:23.742672Z",
     "shell.execute_reply": "2021-05-08T13:16:23.741670Z",
     "shell.execute_reply.started": "2021-05-08T13:16:23.728382Z"
    },
    "tags": []
   },
   "outputs": [],
   "source": [
    "import IPython.display\n",
    "rows=3\n",
    "sizes=[400,500,700,1000,2000,5000,\n",
    "       10000,50000,75000,\n",
    "       100000,150000,175000,\n",
    "       200000,300000,500000]\n"
   ]
  },
  {
   "source": [
    "1) En se basant sur l'exemple de code ci-dessous, comparer différentes approches en faisant varier les choix d'algorithme et de score.\n",
    "\n",
    "        res=\"<table>\"\n",
    "        nbr=0\n",
    "        l=[]\n",
    "        for i in sizes:\n",
    "                n=i+1\n",
    "                oslike.rm(\"out/extract_asia.csv\")\n",
    "                oslike.head(\"out/sample_asia.csv\",n,\"out/extract_asia.csv\")\n",
    "                oslike.wc_l(\"out/extract_asia.csv\")\n",
    "                learner=gum.BNLearner(\"out/extract_asia.csv\",bn) # using bn as template for variables\n",
    "                learner.use ... un des algorithmes\n",
    "                bn2=learner.learnBN()\n",
    "                \n",
    "                kl=gum.ExactBNdistance(bn,bn2)\n",
    "                r=kl.compute()\n",
    "                l.append(r['klPQ'])\n",
    "                \n",
    "                if nbr % rows == 0:\n",
    "                        res+=\"<tr>\"\n",
    "                res+=\"<td><center>size=\"+str(i)+\"</center>\"+gnb.getBN(bn2,size=\"3\")+\"</td>\"\n",
    "                nbr+=1\n",
    "                if nbr % rows == 0:\n",
    "                        res+=\"</tr>\"\n",
    "        if nbr % rows!=0:\n",
    "        res+=\"</tr>\"\n",
    "        res+=\"</table>\"\n",
    "\n",
    "        IPython.display.display(IPython.display.HTML(res))\n",
    "\n",
    "        plot(sizes,l)\n",
    "        print(l[-1])"
   ],
   "cell_type": "markdown",
   "metadata": {}
  },
  {
   "cell_type": "code",
   "execution_count": null,
   "metadata": {},
   "outputs": [],
   "source": []
  }
 ],
 "metadata": {
  "hide_input": false,
  "kernelspec": {
   "name": "python3",
   "display_name": "Python 3.9.2 64-bit ('testpy39': conda)"
  },
  "language_info": {
   "codemirror_mode": {
    "name": "ipython",
    "version": 3
   },
   "file_extension": ".py",
   "mimetype": "text/x-python",
   "name": "python",
   "nbconvert_exporter": "python",
   "pygments_lexer": "ipython3",
   "version": "3.9.2"
  },
  "interpreter": {
   "hash": "a9ee70006b6f81fac2f5f7dd19f1a2324188ea26dbf21d77e95ec96161839214"
  }
 },
 "nbformat": 4,
 "nbformat_minor": 4
}