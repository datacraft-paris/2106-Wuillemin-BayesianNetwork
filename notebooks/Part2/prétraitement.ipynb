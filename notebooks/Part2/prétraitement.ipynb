{
 "cells": [
  {
   "cell_type": "code",
   "execution_count": 3,
   "metadata": {},
   "outputs": [],
   "source": [
    "import os\n",
    "import math\n",
    "import pyAgrum as gum\n",
    "import pyAgrum.lib.notebook as gnb\n",
    "from pyAgrum.lib.bn2roc import showROC_PR\n",
    "\n",
    "from sklearn.metrics import accuracy_score, roc_auc_score, confusion_matrix\n",
    "import pandas as pd"
   ]
  },
  {
   "cell_type": "code",
   "execution_count": null,
   "metadata": {},
   "outputs": [],
   "source": [
    "import pyAgrum.skbn"
   ]
  },
  {
   "cell_type": "code",
   "execution_count": 4,
   "metadata": {},
   "outputs": [],
   "source": [
    "traindf=pandas.read_csv('res/titanic/train.csv')                       \n",
    "\n",
    "testdf=pandas.merge(pandas.read_csv('res/titanic/test.csv'),\n",
    "                   pandas.read_csv('res/titanic/gender_submission.csv'),\n",
    "                   on=\"PassengerId\")"
   ]
  },
  {
   "cell_type": "code",
   "execution_count": 6,
   "metadata": {},
   "outputs": [
    {
     "output_type": "execute_result",
     "data": {
      "text/plain": [
       "PassengerId    66231.000000\n",
       "Survived           0.236772\n",
       "Pclass             0.699015\n",
       "Age              211.019125\n",
       "SibSp              1.216043\n",
       "Parch              0.649728\n",
       "Fare            2469.436846\n",
       "dtype: float64"
      ]
     },
     "metadata": {},
     "execution_count": 6
    }
   ],
   "source": [
    "traindf.var()"
   ]
  },
  {
   "cell_type": "code",
   "execution_count": 8,
   "metadata": {},
   "outputs": [
    {
     "output_type": "stream",
     "name": "stdout",
     "text": [
      "PassengerId: 891\nSurvived: 2\nPclass: 3\nName: 891\nSex: 2\nAge: 89\nSibSp: 7\nParch: 7\nTicket: 681\nFare: 248\nCabin: 148\nEmbarked: 4\n"
     ]
    }
   ],
   "source": [
    "for k in traindf.keys():\n",
    "    print('{0}: {1}'.format(k, len(traindf[k].unique())))"
   ]
  },
  {
   "cell_type": "code",
   "execution_count": 10,
   "metadata": {},
   "outputs": [
    {
     "output_type": "stream",
     "name": "stdout",
     "text": [
      "Survived\nPclass\nSex\nSibSp\nParch\nEmbarked\n"
     ]
    }
   ],
   "source": [
    "for k in traindf.keys():\n",
    "    if len(traindf[k].unique())<=15:\n",
    "        print(k)"
   ]
  },
  {
   "cell_type": "code",
   "execution_count": 34,
   "metadata": {},
   "outputs": [
    {
     "output_type": "execute_result",
     "data": {
      "text/plain": [
       "     PassengerId  Pclass                                          Name  \\\n",
       "0            892       3                              Kelly, Mr. James   \n",
       "1            893       3              Wilkes, Mrs. James (Ellen Needs)   \n",
       "2            894       2                     Myles, Mr. Thomas Francis   \n",
       "3            895       3                              Wirz, Mr. Albert   \n",
       "4            896       3  Hirvonen, Mrs. Alexander (Helga E Lindqvist)   \n",
       "..           ...     ...                                           ...   \n",
       "413         1305       3                            Spector, Mr. Woolf   \n",
       "414         1306       1                  Oliva y Ocana, Dona. Fermina   \n",
       "415         1307       3                  Saether, Mr. Simon Sivertsen   \n",
       "416         1308       3                           Ware, Mr. Frederick   \n",
       "417         1309       3                      Peter, Master. Michael J   \n",
       "\n",
       "        Sex   Age  SibSp  Parch              Ticket      Fare Cabin Embarked  \\\n",
       "0      male  34.5      0      0              330911    7.8292   NaN        Q   \n",
       "1    female  47.0      1      0              363272    7.0000   NaN        S   \n",
       "2      male  62.0      0      0              240276    9.6875   NaN        Q   \n",
       "3      male  27.0      0      0              315154    8.6625   NaN        S   \n",
       "4    female  22.0      1      1             3101298   12.2875   NaN        S   \n",
       "..      ...   ...    ...    ...                 ...       ...   ...      ...   \n",
       "413    male   NaN      0      0           A.5. 3236    8.0500   NaN        S   \n",
       "414  female  39.0      0      0            PC 17758  108.9000  C105        C   \n",
       "415    male  38.5      0      0  SOTON/O.Q. 3101262    7.2500   NaN        S   \n",
       "416    male   NaN      0      0              359309    8.0500   NaN        S   \n",
       "417    male   NaN      1      1                2668   22.3583   NaN        C   \n",
       "\n",
       "     Survived  \n",
       "0           0  \n",
       "1           1  \n",
       "2           0  \n",
       "3           0  \n",
       "4           1  \n",
       "..        ...  \n",
       "413         0  \n",
       "414         1  \n",
       "415         0  \n",
       "416         0  \n",
       "417         0  \n",
       "\n",
       "[418 rows x 12 columns]"
      ],
      "text/html": "<div>\n<style scoped>\n    .dataframe tbody tr th:only-of-type {\n        vertical-align: middle;\n    }\n\n    .dataframe tbody tr th {\n        vertical-align: top;\n    }\n\n    .dataframe thead th {\n        text-align: right;\n    }\n</style>\n<table border=\"1\" class=\"dataframe\">\n  <thead>\n    <tr style=\"text-align: right;\">\n      <th></th>\n      <th>PassengerId</th>\n      <th>Pclass</th>\n      <th>Name</th>\n      <th>Sex</th>\n      <th>Age</th>\n      <th>SibSp</th>\n      <th>Parch</th>\n      <th>Ticket</th>\n      <th>Fare</th>\n      <th>Cabin</th>\n      <th>Embarked</th>\n      <th>Survived</th>\n    </tr>\n  </thead>\n  <tbody>\n    <tr>\n      <th>0</th>\n      <td>892</td>\n      <td>3</td>\n      <td>Kelly, Mr. James</td>\n      <td>male</td>\n      <td>34.5</td>\n      <td>0</td>\n      <td>0</td>\n      <td>330911</td>\n      <td>7.8292</td>\n      <td>NaN</td>\n      <td>Q</td>\n      <td>0</td>\n    </tr>\n    <tr>\n      <th>1</th>\n      <td>893</td>\n      <td>3</td>\n      <td>Wilkes, Mrs. James (Ellen Needs)</td>\n      <td>female</td>\n      <td>47.0</td>\n      <td>1</td>\n      <td>0</td>\n      <td>363272</td>\n      <td>7.0000</td>\n      <td>NaN</td>\n      <td>S</td>\n      <td>1</td>\n    </tr>\n    <tr>\n      <th>2</th>\n      <td>894</td>\n      <td>2</td>\n      <td>Myles, Mr. Thomas Francis</td>\n      <td>male</td>\n      <td>62.0</td>\n      <td>0</td>\n      <td>0</td>\n      <td>240276</td>\n      <td>9.6875</td>\n      <td>NaN</td>\n      <td>Q</td>\n      <td>0</td>\n    </tr>\n    <tr>\n      <th>3</th>\n      <td>895</td>\n      <td>3</td>\n      <td>Wirz, Mr. Albert</td>\n      <td>male</td>\n      <td>27.0</td>\n      <td>0</td>\n      <td>0</td>\n      <td>315154</td>\n      <td>8.6625</td>\n      <td>NaN</td>\n      <td>S</td>\n      <td>0</td>\n    </tr>\n    <tr>\n      <th>4</th>\n      <td>896</td>\n      <td>3</td>\n      <td>Hirvonen, Mrs. Alexander (Helga E Lindqvist)</td>\n      <td>female</td>\n      <td>22.0</td>\n      <td>1</td>\n      <td>1</td>\n      <td>3101298</td>\n      <td>12.2875</td>\n      <td>NaN</td>\n      <td>S</td>\n      <td>1</td>\n    </tr>\n    <tr>\n      <th>...</th>\n      <td>...</td>\n      <td>...</td>\n      <td>...</td>\n      <td>...</td>\n      <td>...</td>\n      <td>...</td>\n      <td>...</td>\n      <td>...</td>\n      <td>...</td>\n      <td>...</td>\n      <td>...</td>\n      <td>...</td>\n    </tr>\n    <tr>\n      <th>413</th>\n      <td>1305</td>\n      <td>3</td>\n      <td>Spector, Mr. Woolf</td>\n      <td>male</td>\n      <td>NaN</td>\n      <td>0</td>\n      <td>0</td>\n      <td>A.5. 3236</td>\n      <td>8.0500</td>\n      <td>NaN</td>\n      <td>S</td>\n      <td>0</td>\n    </tr>\n    <tr>\n      <th>414</th>\n      <td>1306</td>\n      <td>1</td>\n      <td>Oliva y Ocana, Dona. Fermina</td>\n      <td>female</td>\n      <td>39.0</td>\n      <td>0</td>\n      <td>0</td>\n      <td>PC 17758</td>\n      <td>108.9000</td>\n      <td>C105</td>\n      <td>C</td>\n      <td>1</td>\n    </tr>\n    <tr>\n      <th>415</th>\n      <td>1307</td>\n      <td>3</td>\n      <td>Saether, Mr. Simon Sivertsen</td>\n      <td>male</td>\n      <td>38.5</td>\n      <td>0</td>\n      <td>0</td>\n      <td>SOTON/O.Q. 3101262</td>\n      <td>7.2500</td>\n      <td>NaN</td>\n      <td>S</td>\n      <td>0</td>\n    </tr>\n    <tr>\n      <th>416</th>\n      <td>1308</td>\n      <td>3</td>\n      <td>Ware, Mr. Frederick</td>\n      <td>male</td>\n      <td>NaN</td>\n      <td>0</td>\n      <td>0</td>\n      <td>359309</td>\n      <td>8.0500</td>\n      <td>NaN</td>\n      <td>S</td>\n      <td>0</td>\n    </tr>\n    <tr>\n      <th>417</th>\n      <td>1309</td>\n      <td>3</td>\n      <td>Peter, Master. Michael J</td>\n      <td>male</td>\n      <td>NaN</td>\n      <td>1</td>\n      <td>1</td>\n      <td>2668</td>\n      <td>22.3583</td>\n      <td>NaN</td>\n      <td>C</td>\n      <td>0</td>\n    </tr>\n  </tbody>\n</table>\n<p>418 rows × 12 columns</p>\n</div>"
     },
     "metadata": {},
     "execution_count": 34
    }
   ],
   "source": [
    "testdf=pandas.merge(pandas.read_csv('res/titanic/test.csv'),\n",
    "                    pandas.read_csv('res/titanic/gender_submission.csv'),\n",
    "                    on=\"PassengerId\")\n",
    "\n",
    "\n",
    "def forAge(row):\n",
    "    try:\n",
    "        age = float(row['Age'])\n",
    "        if age < 1:\n",
    "            #return '[0;1['\n",
    "            return 'baby'\n",
    "            #return 0\n",
    "        elif age < 6:\n",
    "            #return '[1;6['\n",
    "            return 'toddler'\n",
    "            #return 1\n",
    "        elif age < 12:\n",
    "            #return '[6;12['\n",
    "            return 'kid'\n",
    "            #return 2\n",
    "        elif age < 21:\n",
    "            #return '[12;21['\n",
    "            return 'teen'\n",
    "            #return 3\n",
    "        elif age < 80:\n",
    "            #return '[21;80['\n",
    "            return 'adult'\n",
    "            #return 4\n",
    "        else:\n",
    "            #return '[80;200]'\n",
    "            return 'old'\n",
    "            #return 5\n",
    "    except ValueError:\n",
    "        return np.nan\n",
    "    \n",
    "def forBoolean(row, col):\n",
    "    try:\n",
    "        val = int(row[col])\n",
    "        if row[col] >= 1:\n",
    "            return \"True\"\n",
    "        else:\n",
    "            return \"False\"\n",
    "    except ValueError:\n",
    "        return \"False\"\n",
    "    \n",
    "def forGender(row):\n",
    "    if row['Sex'] == \"male\":\n",
    "        return \"Male\"\n",
    "        #return 0\n",
    "    else:\n",
    "        return \"Female\"\n",
    "        #return 1\n",
    "\n",
    "def forEmbarked(row):\n",
    "    val = row['Embarked']\n",
    "    if val == \"S\":\n",
    "        return 0\n",
    "    elif val == \"C\":\n",
    "        return 1\n",
    "    elif val == \"Q\":\n",
    "        return 2\n",
    "        \n",
    "\n",
    "testdf"
   ]
  },
  {
   "cell_type": "code",
   "execution_count": 58,
   "metadata": {},
   "outputs": [],
   "source": [
    "def pretreat(df):\n",
    "    if 'Survived' in df.columns:\n",
    "        df['Survived'] = df.apply(lambda row: forBoolean(row, 'Survived'), axis=1)\n",
    "    df['Age'] = df.apply(forAge, axis=1)\n",
    "    df['SibSp'] = df.apply(lambda row: forBoolean(row, 'SibSp'), axis=1)\n",
    "    df['Parch'] = df.apply(lambda row: forBoolean(row, 'Parch'), axis=1)\n",
    "    df['Sex'] = df.apply(forGender, axis=1)\n",
    "    droped_cols = [col for col in ['PassengerId', 'Name', 'Ticket', 'Fare', 'Cabin'] if col in df.columns]\n",
    "    df = df.drop(droped_cols, axis=1)\n",
    "    df = df.rename(index=str, columns={'Sex': 'Gender', 'SibSp': 'Siblings', 'Parch': 'Parents'})\n",
    "    df.dropna(inplace=True)\n",
    "    return df\n",
    "\n",
    "traindf = pandas.read_csv('res/titanic/train.csv')\n",
    "testdf  = pandas.merge(pandas.read_csv('res/titanic/test.csv'),\n",
    "                       pandas.read_csv('res/titanic/gender_submission.csv'),\n",
    "                       on=\"PassengerId\")\n",
    "\n",
    "traindf = pretreat(traindf)\n",
    "testdf = pretreat(testdf)"
   ]
  },
  {
   "cell_type": "code",
   "execution_count": 57,
   "metadata": {},
   "outputs": [],
   "source": [
    "import csv\n",
    "traindf.to_csv('res/titanic/post_train.csv', index=False)\n",
    "testdf.to_csv('res/titanic/post_test.csv', index=False)"
   ]
  },
  {
   "cell_type": "code",
   "execution_count": 29,
   "metadata": {},
   "outputs": [],
   "source": [
    "learner=gum.BNLearner(\"res/titanic/post_train.csv\")"
   ]
  },
  {
   "cell_type": "code",
   "execution_count": 30,
   "metadata": {},
   "outputs": [
    {
     "output_type": "display_data",
     "data": {
      "text/plain": "<IPython.core.display.SVG object>",
      "image/svg+xml": "<svg xmlns=\"http://www.w3.org/2000/svg\" xmlns:xlink=\"http://www.w3.org/1999/xlink\" width=\"257pt\" height=\"332pt\" viewBox=\"0.00 0.00 256.74 332.00\">\n<g id=\"graph0\" class=\"graph\" transform=\"scale(1 1) rotate(0) translate(4 328)\">\n<title>G</title>\n<!-- Pclass -->\n<g id=\"node1\" class=\"node\"><title>Pclass</title>\n<g id=\"a_node1\"><a xlink:title=\"(1) Pclass\">\n<ellipse fill=\"#404040\" stroke=\"black\" cx=\"59.0957\" cy=\"-90\" rx=\"34.394\" ry=\"18\"/>\n<text text-anchor=\"middle\" x=\"59.0957\" y=\"-86.3\" font-family=\"Times New Roman,serif\" font-size=\"14.00\" fill=\"white\">Pclass</text>\n</a>\n</g>\n</g>\n<!-- Embarked -->\n<g id=\"node2\" class=\"node\"><title>Embarked</title>\n<g id=\"a_node2\"><a xlink:title=\"(6) Embarked\">\n<ellipse fill=\"#404040\" stroke=\"black\" cx=\"48.0957\" cy=\"-18\" rx=\"48.1917\" ry=\"18\"/>\n<text text-anchor=\"middle\" x=\"48.0957\" y=\"-14.3\" font-family=\"Times New Roman,serif\" font-size=\"14.00\" fill=\"white\">Embarked</text>\n</a>\n</g>\n</g>\n<!-- Pclass&#45;&gt;Embarked -->\n<g id=\"edge8\" class=\"edge\"><title>Pclass-&gt;Embarked</title>\n<g id=\"a_edge8\"><a xlink:title=\"(1, 6) : \">\n<path fill=\"none\" stroke=\"#4a4a4a\" d=\"M56.3766,-71.6966C55.1644,-63.9827 53.7077,-54.7125 52.3563,-46.1124\"/>\n<polygon fill=\"#4a4a4a\" stroke=\"#4a4a4a\" points=\"55.7936,-45.4397 50.7836,-36.1043 48.8784,-46.5265 55.7936,-45.4397\"/>\n</a>\n</g>\n</g>\n<!-- Age -->\n<g id=\"node6\" class=\"node\"><title>Age</title>\n<g id=\"a_node6\"><a xlink:title=\"(3) Age\">\n<ellipse fill=\"#404040\" stroke=\"black\" cx=\"141.096\" cy=\"-18\" rx=\"27\" ry=\"18\"/>\n<text text-anchor=\"middle\" x=\"141.096\" y=\"-14.3\" font-family=\"Times New Roman,serif\" font-size=\"14.00\" fill=\"white\">Age</text>\n</a>\n</g>\n</g>\n<!-- Pclass&#45;&gt;Age -->\n<g id=\"edge10\" class=\"edge\"><title>Pclass-&gt;Age</title>\n<g id=\"a_edge10\"><a xlink:title=\"(1, 3) : \">\n<path fill=\"none\" stroke=\"#4a4a4a\" d=\"M76.4858,-74.1548C88.3991,-63.985 104.347,-50.3712 117.417,-39.2138\"/>\n<polygon fill=\"#4a4a4a\" stroke=\"#4a4a4a\" points=\"119.788,-41.7915 125.121,-32.6369 115.243,-36.4675 119.788,-41.7915\"/>\n</a>\n</g>\n</g>\n<!-- Parents -->\n<g id=\"node3\" class=\"node\"><title>Parents</title>\n<g id=\"a_node3\"><a xlink:title=\"(5) Parents\">\n<ellipse fill=\"#404040\" stroke=\"black\" cx=\"139.096\" cy=\"-234\" rx=\"37.8943\" ry=\"18\"/>\n<text text-anchor=\"middle\" x=\"139.096\" y=\"-230.3\" font-family=\"Times New Roman,serif\" font-size=\"14.00\" fill=\"white\">Parents</text>\n</a>\n</g>\n</g>\n<!-- Siblings -->\n<g id=\"node4\" class=\"node\"><title>Siblings</title>\n<g id=\"a_node4\"><a xlink:title=\"(4) Siblings\">\n<ellipse fill=\"#404040\" stroke=\"black\" cx=\"209.096\" cy=\"-162\" rx=\"39.7935\" ry=\"18\"/>\n<text text-anchor=\"middle\" x=\"209.096\" y=\"-158.3\" font-family=\"Times New Roman,serif\" font-size=\"14.00\" fill=\"white\">Siblings</text>\n</a>\n</g>\n</g>\n<!-- Parents&#45;&gt;Siblings -->\n<g id=\"edge4\" class=\"edge\"><title>Parents-&gt;Siblings</title>\n<g id=\"a_edge4\"><a xlink:title=\"(5, 4) : \">\n<path fill=\"none\" stroke=\"#4a4a4a\" d=\"M154.631,-217.465C163.836,-208.26 175.674,-196.421 185.962,-186.134\"/>\n<polygon fill=\"#4a4a4a\" stroke=\"#4a4a4a\" points=\"188.522,-188.523 193.119,-178.977 183.573,-183.573 188.522,-188.523\"/>\n</a>\n</g>\n</g>\n<!-- Parents&#45;&gt;Age -->\n<g id=\"edge7\" class=\"edge\"><title>Parents-&gt;Age</title>\n<g id=\"a_edge7\"><a xlink:title=\"(5, 3) : \">\n<path fill=\"none\" stroke=\"#4a4a4a\" d=\"M139.256,-215.849C139.602,-178.832 140.421,-91.1809 140.84,-46.3863\"/>\n<polygon fill=\"#4a4a4a\" stroke=\"#4a4a4a\" points=\"144.341,-46.2648 140.935,-36.2325 137.341,-46.1993 144.341,-46.2648\"/>\n</a>\n</g>\n</g>\n<!-- Survived -->\n<g id=\"node7\" class=\"node\"><title>Survived</title>\n<g id=\"a_node7\"><a xlink:title=\"(0) Survived\">\n<ellipse fill=\"#404040\" stroke=\"black\" cx=\"70.0957\" cy=\"-162\" rx=\"42.7926\" ry=\"18\"/>\n<text text-anchor=\"middle\" x=\"70.0957\" y=\"-158.3\" font-family=\"Times New Roman,serif\" font-size=\"14.00\" fill=\"white\">Survived</text>\n</a>\n</g>\n</g>\n<!-- Parents&#45;&gt;Survived -->\n<g id=\"edge6\" class=\"edge\"><title>Parents-&gt;Survived</title>\n<g id=\"a_edge6\"><a xlink:title=\"(5, 0) : \">\n<path fill=\"none\" stroke=\"#4a4a4a\" d=\"M123.782,-217.465C114.709,-208.26 103.04,-196.421 92.8992,-186.134\"/>\n<polygon fill=\"#4a4a4a\" stroke=\"#4a4a4a\" points=\"95.3573,-183.642 85.8446,-178.977 90.3721,-188.556 95.3573,-183.642\"/>\n</a>\n</g>\n</g>\n<!-- Gender -->\n<g id=\"node5\" class=\"node\"><title>Gender</title>\n<g id=\"a_node5\"><a xlink:title=\"(2) Gender\">\n<ellipse fill=\"#404040\" stroke=\"black\" cx=\"105.096\" cy=\"-306\" rx=\"37.8943\" ry=\"18\"/>\n<text text-anchor=\"middle\" x=\"105.096\" y=\"-302.3\" font-family=\"Times New Roman,serif\" font-size=\"14.00\" fill=\"white\">Gender</text>\n</a>\n</g>\n</g>\n<!-- Gender&#45;&gt;Pclass -->\n<g id=\"edge3\" class=\"edge\"><title>Gender-&gt;Pclass</title>\n<g id=\"a_edge3\"><a xlink:title=\"(2, 1) : \">\n<path fill=\"none\" stroke=\"#4a4a4a\" d=\"M89.3565,-289.393C68.332,-267.315 32.1054,-224.653 18.0957,-180 13.306,-164.734 12.923,-159.141 18.0957,-144 21.8967,-132.875 29.0864,-122.273 36.3968,-113.516\"/>\n<polygon fill=\"#4a4a4a\" stroke=\"#4a4a4a\" points=\"39.0231,-115.83 43.0507,-106.03 33.7912,-111.179 39.0231,-115.83\"/>\n</a>\n</g>\n</g>\n<!-- Gender&#45;&gt;Parents -->\n<g id=\"edge9\" class=\"edge\"><title>Gender-&gt;Parents</title>\n<g id=\"a_edge9\"><a xlink:title=\"(2, 5) : \">\n<path fill=\"none\" stroke=\"#4a4a4a\" d=\"M113.153,-288.411C117.118,-280.249 121.989,-270.22 126.435,-261.065\"/>\n<polygon fill=\"#4a4a4a\" stroke=\"#4a4a4a\" points=\"129.639,-262.48 130.86,-251.956 123.342,-259.422 129.639,-262.48\"/>\n</a>\n</g>\n</g>\n<!-- Gender&#45;&gt;Siblings -->\n<g id=\"edge2\" class=\"edge\"><title>Gender-&gt;Siblings</title>\n<g id=\"a_edge2\"><a xlink:title=\"(2, 4) : \">\n<path fill=\"none\" stroke=\"#4a4a4a\" d=\"M132.634,-293.419C150.424,-284.573 172.678,-270.709 186.096,-252 199.062,-233.92 204.727,-209.137 207.198,-190.314\"/>\n<polygon fill=\"#4a4a4a\" stroke=\"#4a4a4a\" points=\"210.687,-190.604 208.291,-180.283 203.728,-189.845 210.687,-190.604\"/>\n</a>\n</g>\n</g>\n<!-- Gender&#45;&gt;Survived -->\n<g id=\"edge5\" class=\"edge\"><title>Gender-&gt;Survived</title>\n<g id=\"a_edge5\"><a xlink:title=\"(2, 0) : \">\n<path fill=\"none\" stroke=\"#4a4a4a\" d=\"M100.874,-287.871C94.8825,-263.564 83.8539,-218.819 76.7539,-190.013\"/>\n<polygon fill=\"#4a4a4a\" stroke=\"#4a4a4a\" points=\"80.1241,-189.061 74.3325,-180.189 73.3275,-190.736 80.1241,-189.061\"/>\n</a>\n</g>\n</g>\n<!-- Survived&#45;&gt;Pclass -->\n<g id=\"edge1\" class=\"edge\"><title>Survived-&gt;Pclass</title>\n<g id=\"a_edge1\"><a xlink:title=\"(0, 1) : \">\n<path fill=\"none\" stroke=\"#4a4a4a\" d=\"M67.3766,-143.697C66.1644,-135.983 64.7077,-126.712 63.3563,-118.112\"/>\n<polygon fill=\"#4a4a4a\" stroke=\"#4a4a4a\" points=\"66.7936,-117.44 61.7836,-108.104 59.8784,-118.526 66.7936,-117.44\"/>\n</a>\n</g>\n</g>\n</g>\n</svg>"
     },
     "metadata": {}
    }
   ],
   "source": [
    "learner.names()\n",
    "learner.useLocalSearchWithTabuList()\n",
    "bn=learner.learnBN()\n",
    "gnb.showBN(bn)"
   ]
  },
  {
   "cell_type": "code",
   "execution_count": null,
   "metadata": {},
   "outputs": [],
   "source": []
  }
 ],
 "metadata": {
  "kernelspec": {
   "name": "python3",
   "display_name": "Python 3.8.10 64-bit ('PythonSoftwareFoundation.Python.3.8_qbz5n2kfra8p0')"
  },
  "language_info": {
   "codemirror_mode": {
    "name": "ipython",
    "version": 3
   },
   "file_extension": ".py",
   "mimetype": "text/x-python",
   "name": "python",
   "nbconvert_exporter": "python",
   "pygments_lexer": "ipython3",
   "version": "3.8.10"
  },
  "interpreter": {
   "hash": "a450d97d7156bab612912d6da8920a7e995e526ad9c16c6dfe7e0dde17470c88"
  }
 },
 "nbformat": 4,
 "nbformat_minor": 4
}