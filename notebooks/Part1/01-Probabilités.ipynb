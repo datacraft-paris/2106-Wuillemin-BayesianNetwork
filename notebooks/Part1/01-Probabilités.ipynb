{
 "cells": [
  {
   "cell_type": "code",
   "execution_count": 2,
   "metadata": {},
   "outputs": [],
   "source": [
    "import pyAgrum as gum\n",
    "import pyAgrum.lib.notebook as gnb\n",
    "from IPython.display import display, Math, Latex"
   ]
  },
  {
   "cell_type": "markdown",
   "metadata": {},
   "source": [
    "# Daltonisme bayésien\n",
    "\n",
    "Environ 8% des hommes et 0.5% des femmes sont, à des degrés divers, daltoniens."
   ]
  },
  {
   "source": [
    "## Question 1\n",
    "\n",
    "De cette simple information, calculer le pourcentage de femmes parmi les daltoniens (en ajoutant une hypothèse a priori que vous préciserez sur la distribution hommes/femmes)\n",
    "\n",
    "On rappelle que : \n",
    "\n",
    "$$P(A,B)=P(B|A)\\cdot P(A)=P(A|B)\\cdot P(B)$$\n",
    "$$P(A|B)=\\frac{P(B|A)\\cdot P(A)}{P(B)}$$"
   ],
   "cell_type": "markdown",
   "metadata": {}
  },
  {
   "cell_type": "code",
   "execution_count": null,
   "metadata": {},
   "outputs": [],
   "source": []
  },
  {
   "cell_type": "markdown",
   "metadata": {},
   "source": [
    "## Question 2\n",
    "\n",
    "Construire le réseau bayésien qui représente ce problème et vérifier cette valeur par propagation (inférence).\n",
    "\n",
    "Indice : le réseau bayésien contiendra deux variables binaires, une liée à la population (homme ou femme), une liée au daltonisme (présent ou non)."
   ]
  },
  {
   "cell_type": "code",
   "execution_count": null,
   "metadata": {},
   "outputs": [],
   "source": []
  },
  {
   "source": [
    "Exemple : Si l'a priori dit que la probabilité d'être une femme est de 52%, la valeur calculée attendue est de 6.34%"
   ],
   "cell_type": "markdown",
   "metadata": {}
  },
  {
   "cell_type": "code",
   "execution_count": null,
   "metadata": {},
   "outputs": [],
   "source": []
  }
 ],
 "metadata": {
  "kernelspec": {
   "name": "python3",
   "display_name": "Python 3.9.2 64-bit ('testpy39': conda)"
  },
  "language_info": {
   "codemirror_mode": {
    "name": "ipython",
    "version": 3
   },
   "file_extension": ".py",
   "mimetype": "text/x-python",
   "name": "python",
   "nbconvert_exporter": "python",
   "pygments_lexer": "ipython3",
   "version": "3.9.2"
  },
  "interpreter": {
   "hash": "a9ee70006b6f81fac2f5f7dd19f1a2324188ea26dbf21d77e95ec96161839214"
  }
 },
 "nbformat": 4,
 "nbformat_minor": 4
}