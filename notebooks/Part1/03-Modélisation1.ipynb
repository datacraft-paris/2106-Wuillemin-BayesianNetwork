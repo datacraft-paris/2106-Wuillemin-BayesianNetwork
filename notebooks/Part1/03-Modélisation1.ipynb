{
 "cells": [
  {
   "cell_type": "code",
   "execution_count": null,
   "metadata": {
    "collapsed": true
   },
   "outputs": [],
   "source": [
    "import pyAgrum as gum\n",
    "import pyAgrum.lib.notebook as gnb\n",
    "from pyAgrum.lib.pretty_print import pretty_cpt\n",
    "\n",
    "from IPython.display import display, Math, Latex"
   ]
  },
  {
   "cell_type": "markdown",
   "metadata": {},
   "source": [
    "# Exercice 3\n",
    "\n",
    ">problème proposé par le mathématicien Joseph Bertrand\n",
    "\n",
    "Trois coffres contiennent respectivement : \n",
    "\n",
    "- une pièce d'or et une pièce d'argent\n",
    "- 2 pièces d'or\n",
    "- 2 pièces d'argent\n",
    "\n",
    "On choisit une pièce dans un des trois coffres. C'est une pièce d'or. Quelle est la probabilité pour que la seconde pièce soit également en or ?"
   ]
  },
  {
   "source": [
    "### Première étape : Modéliser le problème comme un BN"
   ],
   "cell_type": "markdown",
   "metadata": {}
  },
  {
   "cell_type": "code",
   "execution_count": null,
   "metadata": {},
   "outputs": [],
   "source": []
  },
  {
   "source": [
    "### Seconde étape : Résoudre le problème par inférence\n"
   ],
   "cell_type": "markdown",
   "metadata": {}
  },
  {
   "cell_type": "code",
   "execution_count": null,
   "metadata": {},
   "outputs": [],
   "source": []
  },
  {
   "source": [
    "## Variante : Le problème de Monty Hall\n",
    "\n",
    "Ce problème, largement inspiré du jeu télévisé américan ***Let's Make a Deal***, oppose un présentateur à un candidat (le joueur). Ce joueur est placé devant trois portes fermées. Derrière l'une d'elles se trouve une voiture et derrière chacune des deux autres se trouve une chèvre. Il doit tout d'abord désigner une porte. Puis le présentateur doit ouvrir une porte qui n'est ni celle choisie par le candidat, ni celle cachant la voiture (le présentateur sait quelle est la bonne porte dès le début). Le candidat a alors le droit d'ouvrir la porte qu'il a choisie initialement, ou d'ouvrir la troisième porte.\n",
    "\n",
    "Les questions qui se posent au candidat sont :\n",
    "\n",
    "- Que doit-il faire ?\n",
    "- Quelles sont ses chances de gagner la voiture en agissant au mieux ?\n"
   ],
   "cell_type": "markdown",
   "metadata": {
    "collapsed": true
   }
  },
  {
   "cell_type": "code",
   "execution_count": null,
   "metadata": {},
   "outputs": [],
   "source": []
  }
 ],
 "metadata": {
  "kernelspec": {
   "name": "python3",
   "display_name": "Python 3.9.2 64-bit ('testpy39': conda)"
  },
  "language_info": {
   "codemirror_mode": {
    "name": "ipython",
    "version": 3
   },
   "file_extension": ".py",
   "mimetype": "text/x-python",
   "name": "python",
   "nbconvert_exporter": "python",
   "pygments_lexer": "ipython3",
   "version": "3.9.2"
  },
  "interpreter": {
   "hash": "a9ee70006b6f81fac2f5f7dd19f1a2324188ea26dbf21d77e95ec96161839214"
  }
 },
 "nbformat": 4,
 "nbformat_minor": 1
}