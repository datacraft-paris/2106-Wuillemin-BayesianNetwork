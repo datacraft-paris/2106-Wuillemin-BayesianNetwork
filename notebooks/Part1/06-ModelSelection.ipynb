{
 "cells": [
  {
   "cell_type": "code",
   "execution_count": null,
   "metadata": {
    "collapsed": true
   },
   "outputs": [],
   "source": [
    "import pyAgrum as gum\n",
    "import pyAgrum.lib.notebook as gnb\n",
    "from pyAgrum.lib.pretty_print import pretty_cpt,pretty_bn\n",
    "\n",
    "from IPython.display import display, Math, Latex"
   ]
  },
  {
   "cell_type": "markdown",
   "metadata": {},
   "source": [
    "# Exercice 6\n",
    "\n",
    "> problème proposé par Roland Donat\n",
    "\n",
    "L'objectif de cet exercice est de comparer l'influence du choix de la structure d'un RB sur la représentativité de données observées.\n",
    "\n",
    "Pour ce faire, nous nous intéresserons à des données de retour marketing sur la vente de livret A. Dans ces données, les individus sont décrits par les variables suivantes :\n",
    "\n",
    "    (A)ge : classe d'âges de l'individu - valeurs possibles : [18,25], [26,59], 60+;\n",
    "    (E)pargne : l'individu a t-il de l'épargne - valeurs possibles : non, oui;\n",
    "    (V)ente_livret_A : vente d'un livret A à l'individu - valeurs possibles : échec, succès.\n",
    "\n"
   ]
  },
  {
   "cell_type": "markdown",
   "metadata": {},
   "source": [
    "## Modèle 1 : $A \\rightarrow V \\leftarrow E$"
   ]
  },
  {
   "cell_type": "markdown",
   "metadata": {},
   "source": [
    "Dans ce premier modèle, la vente d'un livret A est conditionnée par l'âge et l'éparge d'un individu.\n",
    "\n",
    "1) Construire le BN lié à ce modèle."
   ]
  },
  {
   "cell_type": "code",
   "execution_count": null,
   "metadata": {},
   "outputs": [],
   "source": []
  },
  {
   "cell_type": "markdown",
   "metadata": {},
   "source": [
    "2) Lancer l'apprentissage des paramètres sur le fichier \"livretA_10000.csv\". Indiquer les distributions a priori que propose cette apprentissage.\n",
    "\n",
    "Note : la cheatsheet et la documentation de pyAgrum (https://pyagrum.readthedocs.io/en/0.20.3/BNLearning.html) montrent comment facilement apprendre des paramètres"
   ]
  },
  {
   "cell_type": "code",
   "execution_count": null,
   "metadata": {},
   "outputs": [],
   "source": []
  },
  {
   "cell_type": "markdown",
   "metadata": {},
   "source": [
    "## Modèle 2 : $A \\leftarrow V \\rightarrow E$"
   ]
  },
  {
   "cell_type": "markdown",
   "metadata": {},
   "source": [
    "Dans ce second modèle, les arcs sont renversés. L'âge et l'épargne d'un invidividu seront conditionnés par la réussite ou non de la vente.\n",
    "\n",
    "1) Comme précédemment, constuire le BN lié à ce nouveau modèle."
   ]
  },
  {
   "cell_type": "code",
   "execution_count": null,
   "metadata": {},
   "outputs": [],
   "source": []
  },
  {
   "source": [
    "2) Lancer l'apprentissage des paramètres sur le fichier \"livretA_10000.csv\". Indiquer les distributions a priori que propose cette apprentissage."
   ],
   "cell_type": "markdown",
   "metadata": {}
  },
  {
   "cell_type": "markdown",
   "metadata": {},
   "source": [
    "## Comparaison des 2 modèles"
   ]
  },
  {
   "source": [
    "Pour illustrer l'impact du choix de la structure sur l'apprentissage des paramètres, afficher les résultats des inférences pour chacun des modèles.\n",
    "\n",
    "Note : la fonction *sideBySide* de gnb (pyAgrum.lib.notebook) permet d'afficher des éléments côte à côte."
   ],
   "cell_type": "markdown",
   "metadata": {}
  },
  {
   "cell_type": "code",
   "execution_count": null,
   "metadata": {},
   "outputs": [],
   "source": []
  },
  {
   "cell_type": "markdown",
   "metadata": {},
   "source": [
    "### Quel est le \"meilleur\" modèle ?\n",
    "\n",
    "Utiliser la log-vraisemblance pour comparer les 2 modèles\n",
    "$$ll=\\sum_{d \\in Base} \\log P(d)=\\sum_{d \\in Base}\\ \\sum_{v \\in BN} \\log P(v_d | parents_d(v))$$\n",
    "\n",
    "Plusieurs approches sont possibles pour effectuer ces calculs :\n",
    "\n",
    "- Utiliser Pandas et le package math\n",
    "- Utiliser les fonctions internes de pyAgrum (computeScores dans pyAgrum.lib.bn2scores)"
   ]
  },
  {
   "cell_type": "code",
   "execution_count": null,
   "metadata": {},
   "outputs": [],
   "source": []
  },
  {
   "cell_type": "code",
   "execution_count": null,
   "metadata": {},
   "outputs": [],
   "source": []
  }
 ],
 "metadata": {
  "kernelspec": {
   "name": "python3",
   "display_name": "Python 3.9.2 64-bit ('testpy39': conda)"
  },
  "language_info": {
   "codemirror_mode": {
    "name": "ipython",
    "version": 3
   },
   "file_extension": ".py",
   "mimetype": "text/x-python",
   "name": "python",
   "nbconvert_exporter": "python",
   "pygments_lexer": "ipython3",
   "version": "3.9.2"
  },
  "interpreter": {
   "hash": "a9ee70006b6f81fac2f5f7dd19f1a2324188ea26dbf21d77e95ec96161839214"
  }
 },
 "nbformat": 4,
 "nbformat_minor": 1
}