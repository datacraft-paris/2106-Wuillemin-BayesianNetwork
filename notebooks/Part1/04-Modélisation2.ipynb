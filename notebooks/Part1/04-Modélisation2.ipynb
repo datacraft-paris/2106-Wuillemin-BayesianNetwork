{
 "cells": [
  {
   "cell_type": "code",
   "execution_count": null,
   "metadata": {
    "collapsed": true
   },
   "outputs": [],
   "source": [
    "import pyAgrum as gum\n",
    "import pyAgrum.lib.notebook as gnb\n",
    "from pyAgrum.lib.pretty_print import pretty_cpt\n",
    "\n",
    "from IPython.display import display, Math, Latex"
   ]
  },
  {
   "cell_type": "markdown",
   "metadata": {},
   "source": [
    "# Hector le robot jongleur\n",
    "\n",
    ">problème proposé par Roland Donat\n",
    "\n",
    "Hector, le robot jongleur, lâche souvent les balles avec lesquelles il jongle quand sa batterie est faible. D'après les expériences précédentes, il a été déterminé que la probabilité qu'il lâche une balle quand sa batterie est faible est de $0.9$. D'autre part, quand sa batterie n'est pas faible, la probabilité qu'il lâche une balle est seulement de $0.01$. Quand la batterie a été rechargée il y a peu de temps, il y a seulement $5\\%$ de chances que la batterie soit faible contre $50\\%$ si la batterie n'a pas été rechargée récemment. \n",
    "\n",
    "Un premier système de vision $O1$ (peu fiable) observe le robot et nous prévient lorsqu'il croit que Hector a lâché une balle. Un autre système $O2$ (indépendant du premier) agit de la même façon. Le but de cet exercice est de modéliser les résultats des observateurs en fonction de ce que fait Hector et de son état. "
   ]
  },
  {
   "cell_type": "markdown",
   "metadata": {},
   "source": [
    "## Structure du réseau bayésien\n",
    "\n",
    "Construire un BN pour ce problème en considérant :\n",
    "\n",
    "+ Quelles variables (booléenne) de modélisation ?\n",
    "+ Quelle structure ?\n",
    "+ Quelle est la forme de la distribution de probabilité jointe pour ce BN \n",
    "+ $O1$ et $O2$ sont ils indépendantes ? A quelle condition deviennent-elles indépéndantes ?"
   ]
  },
  {
   "cell_type": "code",
   "execution_count": null,
   "metadata": {},
   "outputs": [],
   "source": []
  },
  {
   "cell_type": "markdown",
   "metadata": {},
   "source": [
    "## Paramètres du réseau bayésien\n",
    "\n",
    "Proposer les CPTs pour le BN. Quelle données vous manque-t-il pour avoir l'ensemble du modèle bien renseigné ?"
   ]
  },
  {
   "cell_type": "code",
   "execution_count": null,
   "metadata": {},
   "outputs": [],
   "source": []
  },
  {
   "cell_type": "markdown",
   "metadata": {},
   "source": [
    "## inférence dans le réseau bayésien\n",
    "\n",
    "On suppose maintenant que la fiabilité des observateurs $O1$ et $O2$ est de respectivement $70\\%$ et $90\\%$."
   ]
  },
  {
   "source": [
    "1) Calculer la probabilité a priori de chaque nœud\n"
   ],
   "cell_type": "markdown",
   "metadata": {}
  },
  {
   "cell_type": "code",
   "execution_count": null,
   "metadata": {},
   "outputs": [],
   "source": []
  },
  {
   "source": [
    "2) $O1$ observe que Hector a lâché la balle. Quelle est la probabilité que la batterie soit faible ? Comparer cette valeur avec sa probabilité à priori.\n"
   ],
   "cell_type": "markdown",
   "metadata": {}
  },
  {
   "cell_type": "code",
   "execution_count": null,
   "metadata": {
    "collapsed": true
   },
   "outputs": [],
   "source": []
  },
  {
   "source": [
    "3) On ajoute que $O2$ n'a rien vu. Quelle est la nouvelle probabilité que la batterie soit faible ?"
   ],
   "cell_type": "markdown",
   "metadata": {}
  },
  {
   "cell_type": "code",
   "execution_count": null,
   "metadata": {},
   "outputs": [],
   "source": []
  }
 ],
 "metadata": {
  "kernelspec": {
   "display_name": "Python 3",
   "language": "python",
   "name": "python3"
  },
  "language_info": {
   "codemirror_mode": {
    "name": "ipython",
    "version": 3
   },
   "file_extension": ".py",
   "mimetype": "text/x-python",
   "name": "python",
   "nbconvert_exporter": "python",
   "pygments_lexer": "ipython3",
   "version": "3.6.2"
  }
 },
 "nbformat": 4,
 "nbformat_minor": 1
}